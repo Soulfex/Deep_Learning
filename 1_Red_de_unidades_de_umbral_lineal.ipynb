{
  "nbformat": 4,
  "nbformat_minor": 0,
  "metadata": {
    "colab": {
      "provenance": [],
      "authorship_tag": "ABX9TyMYBsQrYtVX5UPBc/BAKaZM",
      "include_colab_link": true
    },
    "kernelspec": {
      "name": "python3",
      "display_name": "Python 3"
    },
    "language_info": {
      "name": "python"
    }
  },
  "cells": [
    {
      "cell_type": "markdown",
      "metadata": {
        "id": "view-in-github",
        "colab_type": "text"
      },
      "source": [
        "<a href=\"https://colab.research.google.com/github/Soulfex/Deep_Learning/blob/main/1_Red_de_unidades_de_umbral_lineal.ipynb\" target=\"_parent\"><img src=\"https://colab.research.google.com/assets/colab-badge.svg\" alt=\"Open In Colab\"/></a>"
      ]
    },
    {
      "cell_type": "markdown",
      "source": [
        "1. Red de unidades de umbral lineal\n",
        "\n",
        "Programa y evalúa una red de neuronas con funciones de activación escalón unitario que aproxime la operación XNOR (⊙) dada por\n",
        "\n",
        "| $x_{1}$ | $x_{2}$| $y$ | \n",
        "|---|---|---|\n",
        "| 0 | 0 | 1 |\n",
        "| 0 | 1 | 0 |\n",
        "| 1 | 0 | 0 |\n",
        "| 1 | 1 | 1 |"
      ],
      "metadata": {
        "id": "YTVIsMfdkhBg"
      }
    },
    {
      "cell_type": "markdown",
      "source": [
        "La función de escalón unitario está dada por:\n",
        "\n",
        "\n",
        "$$Φ(z)= \\left\\{ \\begin{array}{lcc}\n",
        "             0 &   si  & z < 0 \\\\\n",
        "             \\\\ 1 &  si  & z \\geq 0\n",
        "             \\end{array}\n",
        "   \\right.$$"
      ],
      "metadata": {
        "id": "GMF5ezGpmUbB"
      }
    },
    {
      "cell_type": "markdown",
      "source": [
        "La operación XNOR puede ser expresada de la siguiente forma: \n",
        "\n",
        "$$ \\overline{x_{1} \\oplus x_{2} } = (x_{1} \\wedge x_{2})\\vee (\\overline{x_{1}} \\wedge \\overline{x_{2}} ) $$\n",
        "\n",
        "es decir, podemos construir un circuito de compuerta XNOR directamente usando compuertas AND, OR y NOT.\n",
        "\n",
        "Cabe mencionar que este ejercicio es similar al que se realizo durante la clase para la compuerta XOR."
      ],
      "metadata": {
        "id": "mJG5ik4Np33G"
      }
    },
    {
      "cell_type": "code",
      "source": [
        "# Importamos librerias\n",
        "import numpy as np\n",
        "import matplotlib.pyplot as plt\n"
      ],
      "metadata": {
        "id": "fohepiwXVUpc"
      },
      "execution_count": 1,
      "outputs": []
    },
    {
      "cell_type": "code",
      "execution_count": 2,
      "metadata": {
        "id": "sqk52740Z7X6"
      },
      "outputs": [],
      "source": [
        "# Definimos la función de activación escalón unitario\n",
        "\n",
        "def escalon(z):\n",
        "    if z > 0.0:\n",
        "        return 1.0\n",
        "    else:\n",
        "        return 0.0"
      ]
    },
    {
      "cell_type": "code",
      "source": [
        "# Ahora creamos nuestra red de neuronas\n",
        "\n",
        "''' \n",
        "x = Vector de entrada\n",
        "W1 = Matriz de pesos de la capa 1\n",
        "b1 = Vector de sesgos de la capa 1\n",
        "W2 = Matriz de pesos de la capa 2\n",
        "b2 = Matriz de sesgos de la capa 2\n",
        "\n",
        "'''\n",
        "\n",
        "\n",
        "def multicapa(x, W1, b1, W2, b2):\n",
        "    escv = np.vectorize(escalon)\n",
        "    a = escv(np.dot(W1.T, x) + b1)\n",
        "    return escv(np.dot(W2.T, a) + b2)"
      ],
      "metadata": {
        "id": "5kvaEGIGaChh"
      },
      "execution_count": 3,
      "outputs": []
    },
    {
      "cell_type": "markdown",
      "source": [
        "Para este caso podemos definir los pesos manualmente como se ha hecho en clase. \n",
        "Probaremos los siguientes pesos:\n",
        "\n",
        "$$ W_{1} =\\bigl(\\begin{smallmatrix}10 & -1\\\\ 10 & -1\\end{smallmatrix}\\bigr)$$\n",
        "\n",
        "$$b_{1} = (-15, 1)$$\n",
        "\n",
        "$$W_{2} = (10, 10) $$\n",
        "\n",
        "$$b_{2} = -5 $$\n",
        "\n"
      ],
      "metadata": {
        "id": "a3e01oSLL8im"
      }
    },
    {
      "cell_type": "code",
      "source": [
        "# Definimos los valores de entrada\n",
        "X = np.array([[0., 0.], [0., 1.], [1., 0.], [1., 1.]])\n",
        "\n",
        "# Capa 1.\n",
        "#   Pesos    \n",
        "W1 = np.array([ [10, -1], [10, -1]])\n",
        "\n",
        "# Sesgos\n",
        "b1 = np.array([-15,1])\n",
        "\n",
        "# Capa 2\n",
        "\n",
        "#   Pesos\n",
        "W2 = np.array([[10],[10]])\n",
        "\n",
        "# Sesgo\n",
        "b2 = np.array([-5])"
      ],
      "metadata": {
        "id": "J0aomxp4CCiN"
      },
      "execution_count": 4,
      "outputs": []
    },
    {
      "cell_type": "code",
      "source": [
        "# Debemos definir los valores esperados de acuerdo a la compuerta XNOR\n",
        "y_xnor = np.array([1., 0., 0., 1.])\n",
        "\n",
        "# Ahora vamos a evaluar cada una de las entradas \n",
        "\n",
        "print('W_1 = [{0}{1}], b_1 = {2}'.format(W1[0, :], W1[1, :], b1))\n",
        "print('W_2 = [{0}{1}], b_2 = {2}'.format(W2[0], W2[1], b2))\n",
        "print('-----------------------------')\n",
        "print('x_1 \\tx_2 \\ty\\ty_hat')\n",
        "print('-----------------------------')\n",
        "\n",
        "# Se recorren los valores de X\n",
        "for i in range(X.shape[0]):\n",
        "\n",
        " \n",
        "  y_hat = multicapa(X[i], W1, b1, W2, b2)\n",
        "  \n",
        " \n",
        "  print('{0}\\t{1}\\t{2}\\t{3}'.format(X[i, 0], X[i, 1], y_xnor[i], y_hat[0]))"
      ],
      "metadata": {
        "colab": {
          "base_uri": "https://localhost:8080/"
        },
        "id": "xmad8LaTrp0O",
        "outputId": "8231349b-c45c-4b6d-b824-fb4bbe0df9b2"
      },
      "execution_count": 5,
      "outputs": [
        {
          "output_type": "stream",
          "name": "stdout",
          "text": [
            "W_1 = [[10 -1][10 -1]], b_1 = [-15   1]\n",
            "W_2 = [[10][10]], b_2 = [-5]\n",
            "-----------------------------\n",
            "x_1 \tx_2 \ty\ty_hat\n",
            "-----------------------------\n",
            "0.0\t0.0\t1.0\t1.0\n",
            "0.0\t1.0\t0.0\t0.0\n",
            "1.0\t0.0\t0.0\t0.0\n",
            "1.0\t1.0\t1.0\t1.0\n"
          ]
        }
      ]
    },
    {
      "cell_type": "code",
      "source": [],
      "metadata": {
        "id": "sgu4UemnE5Mx"
      },
      "execution_count": 5,
      "outputs": []
    }
  ]
}