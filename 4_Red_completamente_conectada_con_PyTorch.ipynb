{
  "nbformat": 4,
  "nbformat_minor": 0,
  "metadata": {
    "colab": {
      "provenance": [],
      "collapsed_sections": [],
      "authorship_tag": "ABX9TyPLD3CBYv3ounwMXEVJM8YP",
      "include_colab_link": true
    },
    "kernelspec": {
      "name": "python3",
      "display_name": "Python 3"
    },
    "language_info": {
      "name": "python"
    },
    "accelerator": "GPU",
    "widgets": {
      "application/vnd.jupyter.widget-state+json": {
        "e771659632734d7884c1cb637a5104e2": {
          "model_module": "@jupyter-widgets/controls",
          "model_name": "HBoxModel",
          "model_module_version": "1.5.0",
          "state": {
            "_dom_classes": [],
            "_model_module": "@jupyter-widgets/controls",
            "_model_module_version": "1.5.0",
            "_model_name": "HBoxModel",
            "_view_count": null,
            "_view_module": "@jupyter-widgets/controls",
            "_view_module_version": "1.5.0",
            "_view_name": "HBoxView",
            "box_style": "",
            "children": [
              "IPY_MODEL_1145d7a2d8584a2cab2be824045aafb5",
              "IPY_MODEL_d9583674107348f3950c868633af7f9b",
              "IPY_MODEL_da875d8f90454127b79c10b12ea8a7ab"
            ],
            "layout": "IPY_MODEL_1a9824be583845d09747861ca3a0847c"
          }
        },
        "1145d7a2d8584a2cab2be824045aafb5": {
          "model_module": "@jupyter-widgets/controls",
          "model_name": "HTMLModel",
          "model_module_version": "1.5.0",
          "state": {
            "_dom_classes": [],
            "_model_module": "@jupyter-widgets/controls",
            "_model_module_version": "1.5.0",
            "_model_name": "HTMLModel",
            "_view_count": null,
            "_view_module": "@jupyter-widgets/controls",
            "_view_module_version": "1.5.0",
            "_view_name": "HTMLView",
            "description": "",
            "description_tooltip": null,
            "layout": "IPY_MODEL_36c04dd08b1649c2be6dfc8a71d43e3a",
            "placeholder": "​",
            "style": "IPY_MODEL_2b295867d63241bcbaddf70955da0b5d",
            "value": "100%"
          }
        },
        "d9583674107348f3950c868633af7f9b": {
          "model_module": "@jupyter-widgets/controls",
          "model_name": "FloatProgressModel",
          "model_module_version": "1.5.0",
          "state": {
            "_dom_classes": [],
            "_model_module": "@jupyter-widgets/controls",
            "_model_module_version": "1.5.0",
            "_model_name": "FloatProgressModel",
            "_view_count": null,
            "_view_module": "@jupyter-widgets/controls",
            "_view_module_version": "1.5.0",
            "_view_name": "ProgressView",
            "bar_style": "success",
            "description": "",
            "description_tooltip": null,
            "layout": "IPY_MODEL_504878030edc4b3f9a90efdf7d36986d",
            "max": 40,
            "min": 0,
            "orientation": "horizontal",
            "style": "IPY_MODEL_74a1a941c8a042c398bcb8565f10feac",
            "value": 40
          }
        },
        "da875d8f90454127b79c10b12ea8a7ab": {
          "model_module": "@jupyter-widgets/controls",
          "model_name": "HTMLModel",
          "model_module_version": "1.5.0",
          "state": {
            "_dom_classes": [],
            "_model_module": "@jupyter-widgets/controls",
            "_model_module_version": "1.5.0",
            "_model_name": "HTMLModel",
            "_view_count": null,
            "_view_module": "@jupyter-widgets/controls",
            "_view_module_version": "1.5.0",
            "_view_name": "HTMLView",
            "description": "",
            "description_tooltip": null,
            "layout": "IPY_MODEL_a3b5f5df60754646a57187a111ba1b2a",
            "placeholder": "​",
            "style": "IPY_MODEL_13d133c0b5d14c8f910148f3ab56e4b5",
            "value": " 40/40 [13:29&lt;00:00, 19.82s/it]"
          }
        },
        "1a9824be583845d09747861ca3a0847c": {
          "model_module": "@jupyter-widgets/base",
          "model_name": "LayoutModel",
          "model_module_version": "1.2.0",
          "state": {
            "_model_module": "@jupyter-widgets/base",
            "_model_module_version": "1.2.0",
            "_model_name": "LayoutModel",
            "_view_count": null,
            "_view_module": "@jupyter-widgets/base",
            "_view_module_version": "1.2.0",
            "_view_name": "LayoutView",
            "align_content": null,
            "align_items": null,
            "align_self": null,
            "border": null,
            "bottom": null,
            "display": null,
            "flex": null,
            "flex_flow": null,
            "grid_area": null,
            "grid_auto_columns": null,
            "grid_auto_flow": null,
            "grid_auto_rows": null,
            "grid_column": null,
            "grid_gap": null,
            "grid_row": null,
            "grid_template_areas": null,
            "grid_template_columns": null,
            "grid_template_rows": null,
            "height": null,
            "justify_content": null,
            "justify_items": null,
            "left": null,
            "margin": null,
            "max_height": null,
            "max_width": null,
            "min_height": null,
            "min_width": null,
            "object_fit": null,
            "object_position": null,
            "order": null,
            "overflow": null,
            "overflow_x": null,
            "overflow_y": null,
            "padding": null,
            "right": null,
            "top": null,
            "visibility": null,
            "width": null
          }
        },
        "36c04dd08b1649c2be6dfc8a71d43e3a": {
          "model_module": "@jupyter-widgets/base",
          "model_name": "LayoutModel",
          "model_module_version": "1.2.0",
          "state": {
            "_model_module": "@jupyter-widgets/base",
            "_model_module_version": "1.2.0",
            "_model_name": "LayoutModel",
            "_view_count": null,
            "_view_module": "@jupyter-widgets/base",
            "_view_module_version": "1.2.0",
            "_view_name": "LayoutView",
            "align_content": null,
            "align_items": null,
            "align_self": null,
            "border": null,
            "bottom": null,
            "display": null,
            "flex": null,
            "flex_flow": null,
            "grid_area": null,
            "grid_auto_columns": null,
            "grid_auto_flow": null,
            "grid_auto_rows": null,
            "grid_column": null,
            "grid_gap": null,
            "grid_row": null,
            "grid_template_areas": null,
            "grid_template_columns": null,
            "grid_template_rows": null,
            "height": null,
            "justify_content": null,
            "justify_items": null,
            "left": null,
            "margin": null,
            "max_height": null,
            "max_width": null,
            "min_height": null,
            "min_width": null,
            "object_fit": null,
            "object_position": null,
            "order": null,
            "overflow": null,
            "overflow_x": null,
            "overflow_y": null,
            "padding": null,
            "right": null,
            "top": null,
            "visibility": null,
            "width": null
          }
        },
        "2b295867d63241bcbaddf70955da0b5d": {
          "model_module": "@jupyter-widgets/controls",
          "model_name": "DescriptionStyleModel",
          "model_module_version": "1.5.0",
          "state": {
            "_model_module": "@jupyter-widgets/controls",
            "_model_module_version": "1.5.0",
            "_model_name": "DescriptionStyleModel",
            "_view_count": null,
            "_view_module": "@jupyter-widgets/base",
            "_view_module_version": "1.2.0",
            "_view_name": "StyleView",
            "description_width": ""
          }
        },
        "504878030edc4b3f9a90efdf7d36986d": {
          "model_module": "@jupyter-widgets/base",
          "model_name": "LayoutModel",
          "model_module_version": "1.2.0",
          "state": {
            "_model_module": "@jupyter-widgets/base",
            "_model_module_version": "1.2.0",
            "_model_name": "LayoutModel",
            "_view_count": null,
            "_view_module": "@jupyter-widgets/base",
            "_view_module_version": "1.2.0",
            "_view_name": "LayoutView",
            "align_content": null,
            "align_items": null,
            "align_self": null,
            "border": null,
            "bottom": null,
            "display": null,
            "flex": null,
            "flex_flow": null,
            "grid_area": null,
            "grid_auto_columns": null,
            "grid_auto_flow": null,
            "grid_auto_rows": null,
            "grid_column": null,
            "grid_gap": null,
            "grid_row": null,
            "grid_template_areas": null,
            "grid_template_columns": null,
            "grid_template_rows": null,
            "height": null,
            "justify_content": null,
            "justify_items": null,
            "left": null,
            "margin": null,
            "max_height": null,
            "max_width": null,
            "min_height": null,
            "min_width": null,
            "object_fit": null,
            "object_position": null,
            "order": null,
            "overflow": null,
            "overflow_x": null,
            "overflow_y": null,
            "padding": null,
            "right": null,
            "top": null,
            "visibility": null,
            "width": null
          }
        },
        "74a1a941c8a042c398bcb8565f10feac": {
          "model_module": "@jupyter-widgets/controls",
          "model_name": "ProgressStyleModel",
          "model_module_version": "1.5.0",
          "state": {
            "_model_module": "@jupyter-widgets/controls",
            "_model_module_version": "1.5.0",
            "_model_name": "ProgressStyleModel",
            "_view_count": null,
            "_view_module": "@jupyter-widgets/base",
            "_view_module_version": "1.2.0",
            "_view_name": "StyleView",
            "bar_color": null,
            "description_width": ""
          }
        },
        "a3b5f5df60754646a57187a111ba1b2a": {
          "model_module": "@jupyter-widgets/base",
          "model_name": "LayoutModel",
          "model_module_version": "1.2.0",
          "state": {
            "_model_module": "@jupyter-widgets/base",
            "_model_module_version": "1.2.0",
            "_model_name": "LayoutModel",
            "_view_count": null,
            "_view_module": "@jupyter-widgets/base",
            "_view_module_version": "1.2.0",
            "_view_name": "LayoutView",
            "align_content": null,
            "align_items": null,
            "align_self": null,
            "border": null,
            "bottom": null,
            "display": null,
            "flex": null,
            "flex_flow": null,
            "grid_area": null,
            "grid_auto_columns": null,
            "grid_auto_flow": null,
            "grid_auto_rows": null,
            "grid_column": null,
            "grid_gap": null,
            "grid_row": null,
            "grid_template_areas": null,
            "grid_template_columns": null,
            "grid_template_rows": null,
            "height": null,
            "justify_content": null,
            "justify_items": null,
            "left": null,
            "margin": null,
            "max_height": null,
            "max_width": null,
            "min_height": null,
            "min_width": null,
            "object_fit": null,
            "object_position": null,
            "order": null,
            "overflow": null,
            "overflow_x": null,
            "overflow_y": null,
            "padding": null,
            "right": null,
            "top": null,
            "visibility": null,
            "width": null
          }
        },
        "13d133c0b5d14c8f910148f3ab56e4b5": {
          "model_module": "@jupyter-widgets/controls",
          "model_name": "DescriptionStyleModel",
          "model_module_version": "1.5.0",
          "state": {
            "_model_module": "@jupyter-widgets/controls",
            "_model_module_version": "1.5.0",
            "_model_name": "DescriptionStyleModel",
            "_view_count": null,
            "_view_module": "@jupyter-widgets/base",
            "_view_module_version": "1.2.0",
            "_view_name": "StyleView",
            "description_width": ""
          }
        },
        "711a5890a04141ff85773a59dc85e7ac": {
          "model_module": "@jupyter-widgets/controls",
          "model_name": "HBoxModel",
          "model_module_version": "1.5.0",
          "state": {
            "_dom_classes": [],
            "_model_module": "@jupyter-widgets/controls",
            "_model_module_version": "1.5.0",
            "_model_name": "HBoxModel",
            "_view_count": null,
            "_view_module": "@jupyter-widgets/controls",
            "_view_module_version": "1.5.0",
            "_view_name": "HBoxView",
            "box_style": "",
            "children": [
              "IPY_MODEL_2ff0925d92ce4bd2bbdbdf53a963a552",
              "IPY_MODEL_21df7c680ccc46c8a87a922b9566693c",
              "IPY_MODEL_8e55edd4dc714cb6bb9c52b33cff6613"
            ],
            "layout": "IPY_MODEL_43d645d620c643c78bc589ebc8411cc0"
          }
        },
        "2ff0925d92ce4bd2bbdbdf53a963a552": {
          "model_module": "@jupyter-widgets/controls",
          "model_name": "HTMLModel",
          "model_module_version": "1.5.0",
          "state": {
            "_dom_classes": [],
            "_model_module": "@jupyter-widgets/controls",
            "_model_module_version": "1.5.0",
            "_model_name": "HTMLModel",
            "_view_count": null,
            "_view_module": "@jupyter-widgets/controls",
            "_view_module_version": "1.5.0",
            "_view_name": "HTMLView",
            "description": "",
            "description_tooltip": null,
            "layout": "IPY_MODEL_b542f2fc47f045f0b67b34da1f0f017f",
            "placeholder": "​",
            "style": "IPY_MODEL_f009eca28c1d4e8b8b8d44d3054e64fc",
            "value": "100%"
          }
        },
        "21df7c680ccc46c8a87a922b9566693c": {
          "model_module": "@jupyter-widgets/controls",
          "model_name": "FloatProgressModel",
          "model_module_version": "1.5.0",
          "state": {
            "_dom_classes": [],
            "_model_module": "@jupyter-widgets/controls",
            "_model_module_version": "1.5.0",
            "_model_name": "FloatProgressModel",
            "_view_count": null,
            "_view_module": "@jupyter-widgets/controls",
            "_view_module_version": "1.5.0",
            "_view_name": "ProgressView",
            "bar_style": "success",
            "description": "",
            "description_tooltip": null,
            "layout": "IPY_MODEL_a9befcc0afa64487b8a2df7e8cbfcbb3",
            "max": 40,
            "min": 0,
            "orientation": "horizontal",
            "style": "IPY_MODEL_14202a2e7f98411e82f30accab733791",
            "value": 40
          }
        },
        "8e55edd4dc714cb6bb9c52b33cff6613": {
          "model_module": "@jupyter-widgets/controls",
          "model_name": "HTMLModel",
          "model_module_version": "1.5.0",
          "state": {
            "_dom_classes": [],
            "_model_module": "@jupyter-widgets/controls",
            "_model_module_version": "1.5.0",
            "_model_name": "HTMLModel",
            "_view_count": null,
            "_view_module": "@jupyter-widgets/controls",
            "_view_module_version": "1.5.0",
            "_view_name": "HTMLView",
            "description": "",
            "description_tooltip": null,
            "layout": "IPY_MODEL_f3c088bf96de407bbf7033a112ebc441",
            "placeholder": "​",
            "style": "IPY_MODEL_072c1313424341a5b6fbdcc8f2cb3f35",
            "value": " 40/40 [14:00&lt;00:00, 19.82s/it]"
          }
        },
        "43d645d620c643c78bc589ebc8411cc0": {
          "model_module": "@jupyter-widgets/base",
          "model_name": "LayoutModel",
          "model_module_version": "1.2.0",
          "state": {
            "_model_module": "@jupyter-widgets/base",
            "_model_module_version": "1.2.0",
            "_model_name": "LayoutModel",
            "_view_count": null,
            "_view_module": "@jupyter-widgets/base",
            "_view_module_version": "1.2.0",
            "_view_name": "LayoutView",
            "align_content": null,
            "align_items": null,
            "align_self": null,
            "border": null,
            "bottom": null,
            "display": null,
            "flex": null,
            "flex_flow": null,
            "grid_area": null,
            "grid_auto_columns": null,
            "grid_auto_flow": null,
            "grid_auto_rows": null,
            "grid_column": null,
            "grid_gap": null,
            "grid_row": null,
            "grid_template_areas": null,
            "grid_template_columns": null,
            "grid_template_rows": null,
            "height": null,
            "justify_content": null,
            "justify_items": null,
            "left": null,
            "margin": null,
            "max_height": null,
            "max_width": null,
            "min_height": null,
            "min_width": null,
            "object_fit": null,
            "object_position": null,
            "order": null,
            "overflow": null,
            "overflow_x": null,
            "overflow_y": null,
            "padding": null,
            "right": null,
            "top": null,
            "visibility": null,
            "width": null
          }
        },
        "b542f2fc47f045f0b67b34da1f0f017f": {
          "model_module": "@jupyter-widgets/base",
          "model_name": "LayoutModel",
          "model_module_version": "1.2.0",
          "state": {
            "_model_module": "@jupyter-widgets/base",
            "_model_module_version": "1.2.0",
            "_model_name": "LayoutModel",
            "_view_count": null,
            "_view_module": "@jupyter-widgets/base",
            "_view_module_version": "1.2.0",
            "_view_name": "LayoutView",
            "align_content": null,
            "align_items": null,
            "align_self": null,
            "border": null,
            "bottom": null,
            "display": null,
            "flex": null,
            "flex_flow": null,
            "grid_area": null,
            "grid_auto_columns": null,
            "grid_auto_flow": null,
            "grid_auto_rows": null,
            "grid_column": null,
            "grid_gap": null,
            "grid_row": null,
            "grid_template_areas": null,
            "grid_template_columns": null,
            "grid_template_rows": null,
            "height": null,
            "justify_content": null,
            "justify_items": null,
            "left": null,
            "margin": null,
            "max_height": null,
            "max_width": null,
            "min_height": null,
            "min_width": null,
            "object_fit": null,
            "object_position": null,
            "order": null,
            "overflow": null,
            "overflow_x": null,
            "overflow_y": null,
            "padding": null,
            "right": null,
            "top": null,
            "visibility": null,
            "width": null
          }
        },
        "f009eca28c1d4e8b8b8d44d3054e64fc": {
          "model_module": "@jupyter-widgets/controls",
          "model_name": "DescriptionStyleModel",
          "model_module_version": "1.5.0",
          "state": {
            "_model_module": "@jupyter-widgets/controls",
            "_model_module_version": "1.5.0",
            "_model_name": "DescriptionStyleModel",
            "_view_count": null,
            "_view_module": "@jupyter-widgets/base",
            "_view_module_version": "1.2.0",
            "_view_name": "StyleView",
            "description_width": ""
          }
        },
        "a9befcc0afa64487b8a2df7e8cbfcbb3": {
          "model_module": "@jupyter-widgets/base",
          "model_name": "LayoutModel",
          "model_module_version": "1.2.0",
          "state": {
            "_model_module": "@jupyter-widgets/base",
            "_model_module_version": "1.2.0",
            "_model_name": "LayoutModel",
            "_view_count": null,
            "_view_module": "@jupyter-widgets/base",
            "_view_module_version": "1.2.0",
            "_view_name": "LayoutView",
            "align_content": null,
            "align_items": null,
            "align_self": null,
            "border": null,
            "bottom": null,
            "display": null,
            "flex": null,
            "flex_flow": null,
            "grid_area": null,
            "grid_auto_columns": null,
            "grid_auto_flow": null,
            "grid_auto_rows": null,
            "grid_column": null,
            "grid_gap": null,
            "grid_row": null,
            "grid_template_areas": null,
            "grid_template_columns": null,
            "grid_template_rows": null,
            "height": null,
            "justify_content": null,
            "justify_items": null,
            "left": null,
            "margin": null,
            "max_height": null,
            "max_width": null,
            "min_height": null,
            "min_width": null,
            "object_fit": null,
            "object_position": null,
            "order": null,
            "overflow": null,
            "overflow_x": null,
            "overflow_y": null,
            "padding": null,
            "right": null,
            "top": null,
            "visibility": null,
            "width": null
          }
        },
        "14202a2e7f98411e82f30accab733791": {
          "model_module": "@jupyter-widgets/controls",
          "model_name": "ProgressStyleModel",
          "model_module_version": "1.5.0",
          "state": {
            "_model_module": "@jupyter-widgets/controls",
            "_model_module_version": "1.5.0",
            "_model_name": "ProgressStyleModel",
            "_view_count": null,
            "_view_module": "@jupyter-widgets/base",
            "_view_module_version": "1.2.0",
            "_view_name": "StyleView",
            "bar_color": null,
            "description_width": ""
          }
        },
        "f3c088bf96de407bbf7033a112ebc441": {
          "model_module": "@jupyter-widgets/base",
          "model_name": "LayoutModel",
          "model_module_version": "1.2.0",
          "state": {
            "_model_module": "@jupyter-widgets/base",
            "_model_module_version": "1.2.0",
            "_model_name": "LayoutModel",
            "_view_count": null,
            "_view_module": "@jupyter-widgets/base",
            "_view_module_version": "1.2.0",
            "_view_name": "LayoutView",
            "align_content": null,
            "align_items": null,
            "align_self": null,
            "border": null,
            "bottom": null,
            "display": null,
            "flex": null,
            "flex_flow": null,
            "grid_area": null,
            "grid_auto_columns": null,
            "grid_auto_flow": null,
            "grid_auto_rows": null,
            "grid_column": null,
            "grid_gap": null,
            "grid_row": null,
            "grid_template_areas": null,
            "grid_template_columns": null,
            "grid_template_rows": null,
            "height": null,
            "justify_content": null,
            "justify_items": null,
            "left": null,
            "margin": null,
            "max_height": null,
            "max_width": null,
            "min_height": null,
            "min_width": null,
            "object_fit": null,
            "object_position": null,
            "order": null,
            "overflow": null,
            "overflow_x": null,
            "overflow_y": null,
            "padding": null,
            "right": null,
            "top": null,
            "visibility": null,
            "width": null
          }
        },
        "072c1313424341a5b6fbdcc8f2cb3f35": {
          "model_module": "@jupyter-widgets/controls",
          "model_name": "DescriptionStyleModel",
          "model_module_version": "1.5.0",
          "state": {
            "_model_module": "@jupyter-widgets/controls",
            "_model_module_version": "1.5.0",
            "_model_name": "DescriptionStyleModel",
            "_view_count": null,
            "_view_module": "@jupyter-widgets/base",
            "_view_module_version": "1.2.0",
            "_view_name": "StyleView",
            "description_width": ""
          }
        },
        "437181db07764412bbf3b67553eb0769": {
          "model_module": "@jupyter-widgets/controls",
          "model_name": "HBoxModel",
          "model_module_version": "1.5.0",
          "state": {
            "_dom_classes": [],
            "_model_module": "@jupyter-widgets/controls",
            "_model_module_version": "1.5.0",
            "_model_name": "HBoxModel",
            "_view_count": null,
            "_view_module": "@jupyter-widgets/controls",
            "_view_module_version": "1.5.0",
            "_view_name": "HBoxView",
            "box_style": "",
            "children": [
              "IPY_MODEL_1bd65ae68faa4e80910507bfcf2db15e",
              "IPY_MODEL_cc1c35f2c95b43318dc37f6874467080",
              "IPY_MODEL_15639842b8e848b8b4fb9146bae3ae74"
            ],
            "layout": "IPY_MODEL_7411f30541544c7e99ff550b42e8664f"
          }
        },
        "1bd65ae68faa4e80910507bfcf2db15e": {
          "model_module": "@jupyter-widgets/controls",
          "model_name": "HTMLModel",
          "model_module_version": "1.5.0",
          "state": {
            "_dom_classes": [],
            "_model_module": "@jupyter-widgets/controls",
            "_model_module_version": "1.5.0",
            "_model_name": "HTMLModel",
            "_view_count": null,
            "_view_module": "@jupyter-widgets/controls",
            "_view_module_version": "1.5.0",
            "_view_name": "HTMLView",
            "description": "",
            "description_tooltip": null,
            "layout": "IPY_MODEL_61bc8816859c45f49cf5a9f803861628",
            "placeholder": "​",
            "style": "IPY_MODEL_ffd1c6fa95674eb3bd8f03774172a2c4",
            "value": "100%"
          }
        },
        "cc1c35f2c95b43318dc37f6874467080": {
          "model_module": "@jupyter-widgets/controls",
          "model_name": "FloatProgressModel",
          "model_module_version": "1.5.0",
          "state": {
            "_dom_classes": [],
            "_model_module": "@jupyter-widgets/controls",
            "_model_module_version": "1.5.0",
            "_model_name": "FloatProgressModel",
            "_view_count": null,
            "_view_module": "@jupyter-widgets/controls",
            "_view_module_version": "1.5.0",
            "_view_name": "ProgressView",
            "bar_style": "success",
            "description": "",
            "description_tooltip": null,
            "layout": "IPY_MODEL_31854eeb960d46feaa46006fba8ee8d7",
            "max": 20,
            "min": 0,
            "orientation": "horizontal",
            "style": "IPY_MODEL_efdd0fddf0e2479d89f2ac2d87987d25",
            "value": 20
          }
        },
        "15639842b8e848b8b4fb9146bae3ae74": {
          "model_module": "@jupyter-widgets/controls",
          "model_name": "HTMLModel",
          "model_module_version": "1.5.0",
          "state": {
            "_dom_classes": [],
            "_model_module": "@jupyter-widgets/controls",
            "_model_module_version": "1.5.0",
            "_model_name": "HTMLModel",
            "_view_count": null,
            "_view_module": "@jupyter-widgets/controls",
            "_view_module_version": "1.5.0",
            "_view_name": "HTMLView",
            "description": "",
            "description_tooltip": null,
            "layout": "IPY_MODEL_c60f53fc766748c282235b6d101a632e",
            "placeholder": "​",
            "style": "IPY_MODEL_4ca07f3e526b40c09d457e65bc78d0b7",
            "value": " 20/20 [07:05&lt;00:00, 20.99s/it]"
          }
        },
        "7411f30541544c7e99ff550b42e8664f": {
          "model_module": "@jupyter-widgets/base",
          "model_name": "LayoutModel",
          "model_module_version": "1.2.0",
          "state": {
            "_model_module": "@jupyter-widgets/base",
            "_model_module_version": "1.2.0",
            "_model_name": "LayoutModel",
            "_view_count": null,
            "_view_module": "@jupyter-widgets/base",
            "_view_module_version": "1.2.0",
            "_view_name": "LayoutView",
            "align_content": null,
            "align_items": null,
            "align_self": null,
            "border": null,
            "bottom": null,
            "display": null,
            "flex": null,
            "flex_flow": null,
            "grid_area": null,
            "grid_auto_columns": null,
            "grid_auto_flow": null,
            "grid_auto_rows": null,
            "grid_column": null,
            "grid_gap": null,
            "grid_row": null,
            "grid_template_areas": null,
            "grid_template_columns": null,
            "grid_template_rows": null,
            "height": null,
            "justify_content": null,
            "justify_items": null,
            "left": null,
            "margin": null,
            "max_height": null,
            "max_width": null,
            "min_height": null,
            "min_width": null,
            "object_fit": null,
            "object_position": null,
            "order": null,
            "overflow": null,
            "overflow_x": null,
            "overflow_y": null,
            "padding": null,
            "right": null,
            "top": null,
            "visibility": null,
            "width": null
          }
        },
        "61bc8816859c45f49cf5a9f803861628": {
          "model_module": "@jupyter-widgets/base",
          "model_name": "LayoutModel",
          "model_module_version": "1.2.0",
          "state": {
            "_model_module": "@jupyter-widgets/base",
            "_model_module_version": "1.2.0",
            "_model_name": "LayoutModel",
            "_view_count": null,
            "_view_module": "@jupyter-widgets/base",
            "_view_module_version": "1.2.0",
            "_view_name": "LayoutView",
            "align_content": null,
            "align_items": null,
            "align_self": null,
            "border": null,
            "bottom": null,
            "display": null,
            "flex": null,
            "flex_flow": null,
            "grid_area": null,
            "grid_auto_columns": null,
            "grid_auto_flow": null,
            "grid_auto_rows": null,
            "grid_column": null,
            "grid_gap": null,
            "grid_row": null,
            "grid_template_areas": null,
            "grid_template_columns": null,
            "grid_template_rows": null,
            "height": null,
            "justify_content": null,
            "justify_items": null,
            "left": null,
            "margin": null,
            "max_height": null,
            "max_width": null,
            "min_height": null,
            "min_width": null,
            "object_fit": null,
            "object_position": null,
            "order": null,
            "overflow": null,
            "overflow_x": null,
            "overflow_y": null,
            "padding": null,
            "right": null,
            "top": null,
            "visibility": null,
            "width": null
          }
        },
        "ffd1c6fa95674eb3bd8f03774172a2c4": {
          "model_module": "@jupyter-widgets/controls",
          "model_name": "DescriptionStyleModel",
          "model_module_version": "1.5.0",
          "state": {
            "_model_module": "@jupyter-widgets/controls",
            "_model_module_version": "1.5.0",
            "_model_name": "DescriptionStyleModel",
            "_view_count": null,
            "_view_module": "@jupyter-widgets/base",
            "_view_module_version": "1.2.0",
            "_view_name": "StyleView",
            "description_width": ""
          }
        },
        "31854eeb960d46feaa46006fba8ee8d7": {
          "model_module": "@jupyter-widgets/base",
          "model_name": "LayoutModel",
          "model_module_version": "1.2.0",
          "state": {
            "_model_module": "@jupyter-widgets/base",
            "_model_module_version": "1.2.0",
            "_model_name": "LayoutModel",
            "_view_count": null,
            "_view_module": "@jupyter-widgets/base",
            "_view_module_version": "1.2.0",
            "_view_name": "LayoutView",
            "align_content": null,
            "align_items": null,
            "align_self": null,
            "border": null,
            "bottom": null,
            "display": null,
            "flex": null,
            "flex_flow": null,
            "grid_area": null,
            "grid_auto_columns": null,
            "grid_auto_flow": null,
            "grid_auto_rows": null,
            "grid_column": null,
            "grid_gap": null,
            "grid_row": null,
            "grid_template_areas": null,
            "grid_template_columns": null,
            "grid_template_rows": null,
            "height": null,
            "justify_content": null,
            "justify_items": null,
            "left": null,
            "margin": null,
            "max_height": null,
            "max_width": null,
            "min_height": null,
            "min_width": null,
            "object_fit": null,
            "object_position": null,
            "order": null,
            "overflow": null,
            "overflow_x": null,
            "overflow_y": null,
            "padding": null,
            "right": null,
            "top": null,
            "visibility": null,
            "width": null
          }
        },
        "efdd0fddf0e2479d89f2ac2d87987d25": {
          "model_module": "@jupyter-widgets/controls",
          "model_name": "ProgressStyleModel",
          "model_module_version": "1.5.0",
          "state": {
            "_model_module": "@jupyter-widgets/controls",
            "_model_module_version": "1.5.0",
            "_model_name": "ProgressStyleModel",
            "_view_count": null,
            "_view_module": "@jupyter-widgets/base",
            "_view_module_version": "1.2.0",
            "_view_name": "StyleView",
            "bar_color": null,
            "description_width": ""
          }
        },
        "c60f53fc766748c282235b6d101a632e": {
          "model_module": "@jupyter-widgets/base",
          "model_name": "LayoutModel",
          "model_module_version": "1.2.0",
          "state": {
            "_model_module": "@jupyter-widgets/base",
            "_model_module_version": "1.2.0",
            "_model_name": "LayoutModel",
            "_view_count": null,
            "_view_module": "@jupyter-widgets/base",
            "_view_module_version": "1.2.0",
            "_view_name": "LayoutView",
            "align_content": null,
            "align_items": null,
            "align_self": null,
            "border": null,
            "bottom": null,
            "display": null,
            "flex": null,
            "flex_flow": null,
            "grid_area": null,
            "grid_auto_columns": null,
            "grid_auto_flow": null,
            "grid_auto_rows": null,
            "grid_column": null,
            "grid_gap": null,
            "grid_row": null,
            "grid_template_areas": null,
            "grid_template_columns": null,
            "grid_template_rows": null,
            "height": null,
            "justify_content": null,
            "justify_items": null,
            "left": null,
            "margin": null,
            "max_height": null,
            "max_width": null,
            "min_height": null,
            "min_width": null,
            "object_fit": null,
            "object_position": null,
            "order": null,
            "overflow": null,
            "overflow_x": null,
            "overflow_y": null,
            "padding": null,
            "right": null,
            "top": null,
            "visibility": null,
            "width": null
          }
        },
        "4ca07f3e526b40c09d457e65bc78d0b7": {
          "model_module": "@jupyter-widgets/controls",
          "model_name": "DescriptionStyleModel",
          "model_module_version": "1.5.0",
          "state": {
            "_model_module": "@jupyter-widgets/controls",
            "_model_module_version": "1.5.0",
            "_model_name": "DescriptionStyleModel",
            "_view_count": null,
            "_view_module": "@jupyter-widgets/base",
            "_view_module_version": "1.2.0",
            "_view_name": "StyleView",
            "description_width": ""
          }
        },
        "f5cad38ee29142049b552f1e3edf7339": {
          "model_module": "@jupyter-widgets/controls",
          "model_name": "HBoxModel",
          "model_module_version": "1.5.0",
          "state": {
            "_dom_classes": [],
            "_model_module": "@jupyter-widgets/controls",
            "_model_module_version": "1.5.0",
            "_model_name": "HBoxModel",
            "_view_count": null,
            "_view_module": "@jupyter-widgets/controls",
            "_view_module_version": "1.5.0",
            "_view_name": "HBoxView",
            "box_style": "",
            "children": [
              "IPY_MODEL_40bd623d051849d29c655477ef536329",
              "IPY_MODEL_2ceac93560744113ad34a5460828b5fd",
              "IPY_MODEL_ba12b16527b046d684d8c099b6fe106d"
            ],
            "layout": "IPY_MODEL_a5b024dbdf2046f0b27c9002e8d33bd8"
          }
        },
        "40bd623d051849d29c655477ef536329": {
          "model_module": "@jupyter-widgets/controls",
          "model_name": "HTMLModel",
          "model_module_version": "1.5.0",
          "state": {
            "_dom_classes": [],
            "_model_module": "@jupyter-widgets/controls",
            "_model_module_version": "1.5.0",
            "_model_name": "HTMLModel",
            "_view_count": null,
            "_view_module": "@jupyter-widgets/controls",
            "_view_module_version": "1.5.0",
            "_view_name": "HTMLView",
            "description": "",
            "description_tooltip": null,
            "layout": "IPY_MODEL_663e8c512bab439288b6b9b34aa97fe4",
            "placeholder": "​",
            "style": "IPY_MODEL_cad523effe234305960cc7e716803151",
            "value": "100%"
          }
        },
        "2ceac93560744113ad34a5460828b5fd": {
          "model_module": "@jupyter-widgets/controls",
          "model_name": "FloatProgressModel",
          "model_module_version": "1.5.0",
          "state": {
            "_dom_classes": [],
            "_model_module": "@jupyter-widgets/controls",
            "_model_module_version": "1.5.0",
            "_model_name": "FloatProgressModel",
            "_view_count": null,
            "_view_module": "@jupyter-widgets/controls",
            "_view_module_version": "1.5.0",
            "_view_name": "ProgressView",
            "bar_style": "success",
            "description": "",
            "description_tooltip": null,
            "layout": "IPY_MODEL_e1e050108c784645b61ace31d2f7e0a0",
            "max": 20,
            "min": 0,
            "orientation": "horizontal",
            "style": "IPY_MODEL_a641b2c299d347d5bee44388387856be",
            "value": 20
          }
        },
        "ba12b16527b046d684d8c099b6fe106d": {
          "model_module": "@jupyter-widgets/controls",
          "model_name": "HTMLModel",
          "model_module_version": "1.5.0",
          "state": {
            "_dom_classes": [],
            "_model_module": "@jupyter-widgets/controls",
            "_model_module_version": "1.5.0",
            "_model_name": "HTMLModel",
            "_view_count": null,
            "_view_module": "@jupyter-widgets/controls",
            "_view_module_version": "1.5.0",
            "_view_name": "HTMLView",
            "description": "",
            "description_tooltip": null,
            "layout": "IPY_MODEL_6f154435b39b45faad2a5af5bc13123c",
            "placeholder": "​",
            "style": "IPY_MODEL_1aacea234e6847ccb239f246966584b0",
            "value": " 20/20 [07:41&lt;00:00, 23.31s/it]"
          }
        },
        "a5b024dbdf2046f0b27c9002e8d33bd8": {
          "model_module": "@jupyter-widgets/base",
          "model_name": "LayoutModel",
          "model_module_version": "1.2.0",
          "state": {
            "_model_module": "@jupyter-widgets/base",
            "_model_module_version": "1.2.0",
            "_model_name": "LayoutModel",
            "_view_count": null,
            "_view_module": "@jupyter-widgets/base",
            "_view_module_version": "1.2.0",
            "_view_name": "LayoutView",
            "align_content": null,
            "align_items": null,
            "align_self": null,
            "border": null,
            "bottom": null,
            "display": null,
            "flex": null,
            "flex_flow": null,
            "grid_area": null,
            "grid_auto_columns": null,
            "grid_auto_flow": null,
            "grid_auto_rows": null,
            "grid_column": null,
            "grid_gap": null,
            "grid_row": null,
            "grid_template_areas": null,
            "grid_template_columns": null,
            "grid_template_rows": null,
            "height": null,
            "justify_content": null,
            "justify_items": null,
            "left": null,
            "margin": null,
            "max_height": null,
            "max_width": null,
            "min_height": null,
            "min_width": null,
            "object_fit": null,
            "object_position": null,
            "order": null,
            "overflow": null,
            "overflow_x": null,
            "overflow_y": null,
            "padding": null,
            "right": null,
            "top": null,
            "visibility": null,
            "width": null
          }
        },
        "663e8c512bab439288b6b9b34aa97fe4": {
          "model_module": "@jupyter-widgets/base",
          "model_name": "LayoutModel",
          "model_module_version": "1.2.0",
          "state": {
            "_model_module": "@jupyter-widgets/base",
            "_model_module_version": "1.2.0",
            "_model_name": "LayoutModel",
            "_view_count": null,
            "_view_module": "@jupyter-widgets/base",
            "_view_module_version": "1.2.0",
            "_view_name": "LayoutView",
            "align_content": null,
            "align_items": null,
            "align_self": null,
            "border": null,
            "bottom": null,
            "display": null,
            "flex": null,
            "flex_flow": null,
            "grid_area": null,
            "grid_auto_columns": null,
            "grid_auto_flow": null,
            "grid_auto_rows": null,
            "grid_column": null,
            "grid_gap": null,
            "grid_row": null,
            "grid_template_areas": null,
            "grid_template_columns": null,
            "grid_template_rows": null,
            "height": null,
            "justify_content": null,
            "justify_items": null,
            "left": null,
            "margin": null,
            "max_height": null,
            "max_width": null,
            "min_height": null,
            "min_width": null,
            "object_fit": null,
            "object_position": null,
            "order": null,
            "overflow": null,
            "overflow_x": null,
            "overflow_y": null,
            "padding": null,
            "right": null,
            "top": null,
            "visibility": null,
            "width": null
          }
        },
        "cad523effe234305960cc7e716803151": {
          "model_module": "@jupyter-widgets/controls",
          "model_name": "DescriptionStyleModel",
          "model_module_version": "1.5.0",
          "state": {
            "_model_module": "@jupyter-widgets/controls",
            "_model_module_version": "1.5.0",
            "_model_name": "DescriptionStyleModel",
            "_view_count": null,
            "_view_module": "@jupyter-widgets/base",
            "_view_module_version": "1.2.0",
            "_view_name": "StyleView",
            "description_width": ""
          }
        },
        "e1e050108c784645b61ace31d2f7e0a0": {
          "model_module": "@jupyter-widgets/base",
          "model_name": "LayoutModel",
          "model_module_version": "1.2.0",
          "state": {
            "_model_module": "@jupyter-widgets/base",
            "_model_module_version": "1.2.0",
            "_model_name": "LayoutModel",
            "_view_count": null,
            "_view_module": "@jupyter-widgets/base",
            "_view_module_version": "1.2.0",
            "_view_name": "LayoutView",
            "align_content": null,
            "align_items": null,
            "align_self": null,
            "border": null,
            "bottom": null,
            "display": null,
            "flex": null,
            "flex_flow": null,
            "grid_area": null,
            "grid_auto_columns": null,
            "grid_auto_flow": null,
            "grid_auto_rows": null,
            "grid_column": null,
            "grid_gap": null,
            "grid_row": null,
            "grid_template_areas": null,
            "grid_template_columns": null,
            "grid_template_rows": null,
            "height": null,
            "justify_content": null,
            "justify_items": null,
            "left": null,
            "margin": null,
            "max_height": null,
            "max_width": null,
            "min_height": null,
            "min_width": null,
            "object_fit": null,
            "object_position": null,
            "order": null,
            "overflow": null,
            "overflow_x": null,
            "overflow_y": null,
            "padding": null,
            "right": null,
            "top": null,
            "visibility": null,
            "width": null
          }
        },
        "a641b2c299d347d5bee44388387856be": {
          "model_module": "@jupyter-widgets/controls",
          "model_name": "ProgressStyleModel",
          "model_module_version": "1.5.0",
          "state": {
            "_model_module": "@jupyter-widgets/controls",
            "_model_module_version": "1.5.0",
            "_model_name": "ProgressStyleModel",
            "_view_count": null,
            "_view_module": "@jupyter-widgets/base",
            "_view_module_version": "1.2.0",
            "_view_name": "StyleView",
            "bar_color": null,
            "description_width": ""
          }
        },
        "6f154435b39b45faad2a5af5bc13123c": {
          "model_module": "@jupyter-widgets/base",
          "model_name": "LayoutModel",
          "model_module_version": "1.2.0",
          "state": {
            "_model_module": "@jupyter-widgets/base",
            "_model_module_version": "1.2.0",
            "_model_name": "LayoutModel",
            "_view_count": null,
            "_view_module": "@jupyter-widgets/base",
            "_view_module_version": "1.2.0",
            "_view_name": "LayoutView",
            "align_content": null,
            "align_items": null,
            "align_self": null,
            "border": null,
            "bottom": null,
            "display": null,
            "flex": null,
            "flex_flow": null,
            "grid_area": null,
            "grid_auto_columns": null,
            "grid_auto_flow": null,
            "grid_auto_rows": null,
            "grid_column": null,
            "grid_gap": null,
            "grid_row": null,
            "grid_template_areas": null,
            "grid_template_columns": null,
            "grid_template_rows": null,
            "height": null,
            "justify_content": null,
            "justify_items": null,
            "left": null,
            "margin": null,
            "max_height": null,
            "max_width": null,
            "min_height": null,
            "min_width": null,
            "object_fit": null,
            "object_position": null,
            "order": null,
            "overflow": null,
            "overflow_x": null,
            "overflow_y": null,
            "padding": null,
            "right": null,
            "top": null,
            "visibility": null,
            "width": null
          }
        },
        "1aacea234e6847ccb239f246966584b0": {
          "model_module": "@jupyter-widgets/controls",
          "model_name": "DescriptionStyleModel",
          "model_module_version": "1.5.0",
          "state": {
            "_model_module": "@jupyter-widgets/controls",
            "_model_module_version": "1.5.0",
            "_model_name": "DescriptionStyleModel",
            "_view_count": null,
            "_view_module": "@jupyter-widgets/base",
            "_view_module_version": "1.2.0",
            "_view_name": "StyleView",
            "description_width": ""
          }
        }
      }
    }
  },
  "cells": [
    {
      "cell_type": "markdown",
      "metadata": {
        "id": "view-in-github",
        "colab_type": "text"
      },
      "source": [
        "<a href=\"https://colab.research.google.com/github/Soulfex/Deep_Learning/blob/main/4_Red_completamente_conectada_con_PyTorch.ipynb\" target=\"_parent\"><img src=\"https://colab.research.google.com/assets/colab-badge.svg\" alt=\"Open In Colab\"/></a>"
      ]
    },
    {
      "cell_type": "markdown",
      "source": [
        "## Red completamente conectada con PyTorch"
      ],
      "metadata": {
        "id": "8v75i9kVxfTG"
      }
    },
    {
      "cell_type": "markdown",
      "source": [
        "Implementa una red completamente conectada para la tarea de clasificación de imágenes sobre el conjunto de Fashion-MNIST, tomando en cuenta las siguiente especificaciones:\n",
        "\n",
        "- Explora con diferentes número de neuronas, capas, funciones de activación e hiperparámetros.\n",
        "-Discute tus resultados con las distintas configuraciones."
      ],
      "metadata": {
        "id": "bqaofbZTxk7U"
      }
    },
    {
      "cell_type": "code",
      "execution_count": 21,
      "metadata": {
        "id": "iuFDFsM9xaWR"
      },
      "outputs": [],
      "source": [
        "# Importamos librerias \n",
        "\n",
        "# números aleatorios\n",
        "import random\n",
        "\n",
        "import math\n",
        "# sistema de archivos\n",
        "import os\n",
        "\n",
        "# redes neuronales\n",
        "import torch\n",
        "from torch.utils.data import DataLoader\n",
        "import torch.nn as nn\n",
        "import torch.nn.functional as func\n",
        "import torch.optim as optimizer\n",
        "import torch.optim as optim\n",
        "import torch.nn.functional as F\n",
        "\n",
        "# tomar n elementos de una secuencia\n",
        "from itertools import islice as take\n",
        "\n",
        "import torchvision\n",
        "import torchvision.datasets.utils as tutils\n",
        "import torchvision.datasets as DataSets\n",
        "from torchvision.datasets import FashionMNIST\n",
        "from torchvision import transforms\n",
        "# imágenes\n",
        "from skimage import io\n",
        "# arreglos multidimensionales\n",
        "import numpy as np\n",
        "# inspección de arquitectura\n",
        "from torchsummary import summary\n",
        "# barras de progreso\n",
        "\n",
        "from tqdm.auto import trange\n",
        "# gráficas\n",
        "from matplotlib import pyplot as plt"
      ]
    },
    {
      "cell_type": "code",
      "source": [
        "if torch.cuda.is_available():  \n",
        "    dev = \"cuda:0\" \n",
        "else:  \n",
        "    dev = \"cpu\"\n",
        "\n",
        "device = torch.device(dev)\n",
        "print(device)"
      ],
      "metadata": {
        "colab": {
          "base_uri": "https://localhost:8080/"
        },
        "id": "ZT1T_5Iah6-9",
        "outputId": "8563cbad-a896-4f38-ce1e-1243ee74ea5d"
      },
      "execution_count": 22,
      "outputs": [
        {
          "output_type": "stream",
          "name": "stdout",
          "text": [
            "cuda:0\n"
          ]
        }
      ]
    },
    {
      "cell_type": "markdown",
      "source": [
        "Fashion-MNIST es un conjunto de datos de imágenes de artículos de Zalando que consta de un conjunto de entrenamiento de 60 000 ejemplos y un conjunto de prueba de 10 000 ejemplos. Cada ejemplo es una imagen en escala de grises de 28x28, asociada con una etiqueta de 10 clases."
      ],
      "metadata": {
        "id": "1Y4yX24RgvmD"
      }
    },
    {
      "cell_type": "markdown",
      "source": [
        "## Cargamos los datos"
      ],
      "metadata": {
        "id": "VmARI-q8ij_x"
      }
    },
    {
      "cell_type": "code",
      "source": [
        "# directorio de datos\n",
        "DATA_DIR = './data/FashionMNIST'\n",
        "\n",
        "\n",
        "\n",
        "# tamaño del lote\n",
        "BATCH_SIZE = 32\n",
        "\n",
        "# reproducibilidad\n",
        "SEED = 0\n",
        "random.seed(SEED)\n",
        "np.random.seed(SEED)\n",
        "torch.manual_seed(SEED)"
      ],
      "metadata": {
        "colab": {
          "base_uri": "https://localhost:8080/"
        },
        "id": "riCnlSOfDNy1",
        "outputId": "006807e2-24fe-4a47-d142-2fc4f1a629c2"
      },
      "execution_count": 23,
      "outputs": [
        {
          "output_type": "execute_result",
          "data": {
            "text/plain": [
              "<torch._C.Generator at 0x7f76e578c7b0>"
            ]
          },
          "metadata": {},
          "execution_count": 23
        }
      ]
    },
    {
      "cell_type": "code",
      "source": [
        "# Use standard FashionMNIST dataset\n",
        "train_dataset = torchvision.datasets.FashionMNIST(\n",
        "    root = './data/FashionMNIST',\n",
        "    train = True,\n",
        "    download = True,\n",
        "    transform = np.array)\n",
        "\n",
        "label = [\"T-shirt/top\",\"Trouser\",\"Pullover\",\"Dress\",\"Coat\",\"Sandal\",\"Shirt\",\"Sneaker\",\"Bag\",\"Ankle boot\"]\n",
        "\n",
        "# Media y desviación estandar para  normalizar los datos para una convergencia más rápida\n",
        "\n",
        "MEAN = train_dataset.train_data.float().mean()/255.0\n",
        "MEAN = (MEAN.item(),)\n",
        "STD = train_dataset.train_data.float().std()/255.0\n",
        "STD = (STD.item(),)\n"
      ],
      "metadata": {
        "colab": {
          "base_uri": "https://localhost:8080/"
        },
        "id": "4exh7aZqhSJ3",
        "outputId": "5dd58044-ea9e-41c8-b58f-97ae9fca0cf7"
      },
      "execution_count": 24,
      "outputs": [
        {
          "output_type": "stream",
          "name": "stderr",
          "text": [
            "/usr/local/lib/python3.7/dist-packages/torchvision/datasets/mnist.py:75: UserWarning: train_data has been renamed data\n",
            "  warnings.warn(\"train_data has been renamed data\")\n"
          ]
        }
      ]
    },
    {
      "cell_type": "code",
      "source": [
        "def display_grid(xs, titles, rows, cols):\n",
        "\n",
        "    fig, ax = plt.subplots(rows, cols, figsize = (15,10))\n",
        "    for r in range(rows):\n",
        "        for c in range(cols):\n",
        "            i = r * rows + c\n",
        "            ax[r, c].imshow(xs[i], cmap='gray')\n",
        "            ax[r, c].set_title(titles[i])\n",
        "            ax[r, c].set_xticklabels([])\n",
        "            ax[r, c].set_yticklabels([])\n",
        "    fig.tight_layout()\n",
        "    plt.show()"
      ],
      "metadata": {
        "id": "jx0aswT7hayZ"
      },
      "execution_count": 25,
      "outputs": []
    },
    {
      "cell_type": "markdown",
      "source": [
        "### Exploración"
      ],
      "metadata": {
        "id": "be4fTCkx0pCQ"
      }
    },
    {
      "cell_type": "code",
      "source": [
        "# cargamos algunas imágenes\n",
        "images, labels = [], []\n",
        "for i in range(BATCH_SIZE):\n",
        "    x, y = train_dataset[i]\n",
        "    images.append(x)\n",
        "    labels.append(label[y])\n",
        "\n",
        "# desplegamos\n",
        "print(f'images[0] shape={images[0].shape} dtype={images[0].dtype}')\n",
        "titles = [str(y) for y in labels]\n",
        "display_grid(images, titles, 4, 8)"
      ],
      "metadata": {
        "colab": {
          "base_uri": "https://localhost:8080/",
          "height": 710
        },
        "id": "C9GORInMy939",
        "outputId": "f97d9ec8-7ee4-41c5-9769-ed18b4d1b5c9"
      },
      "execution_count": 26,
      "outputs": [
        {
          "output_type": "stream",
          "name": "stdout",
          "text": [
            "images[0] shape=(28, 28) dtype=uint8\n"
          ]
        },
        {
          "output_type": "display_data",
          "data": {
            "text/plain": [
              "<Figure size 1080x720 with 32 Axes>"
            ],
            "image/png": "[encoded data removed]"
          },
          "metadata": {
            "needs_background": "light"
          }
        }
      ]
    },
    {
      "cell_type": "markdown",
      "source": [
        "## Cargadores de datos"
      ],
      "metadata": {
        "id": "9y3XjRXH4yQU"
      }
    },
    {
      "cell_type": "markdown",
      "source": [
        "#### Entrenamiento\n"
      ],
      "metadata": {
        "id": "E1_0SWPF527y"
      }
    },
    {
      "cell_type": "code",
      "source": [
        "# transformaciones para la imagen\n",
        "trn_tsfm = transforms.Compose([\n",
        "    # convertimos a torch.Tensor y escalamos a [0,1]\n",
        "    transforms.ToTensor(),\n",
        "    # estandarizamos: restamos la media y dividimos sobre la varianza\n",
        "    transforms.Normalize(MEAN, STD),\n",
        "])\n",
        "\n",
        "# creamos un Dataset\n",
        "trn_ds = FashionMNIST(\n",
        "    # directorio de datos\n",
        "    root=DATA_DIR,\n",
        "    # subconjunto de entrenamiento\n",
        "    train=True,\n",
        "    # transformación\n",
        "    transform= trn_tsfm\n",
        ")\n",
        "\n",
        "# creamos un DataLoader\n",
        "trn_dl = DataLoader(\n",
        "    # conjunto\n",
        "    trn_ds,\n",
        "    # tamaño del lote\n",
        "    batch_size=BATCH_SIZE,\n",
        "    # desordenar\n",
        "    shuffle=True\n",
        ")\n",
        "\n",
        "\n",
        "x, y = next(iter(trn_dl))\n",
        "print(f'x shape={x.shape} dtype={x.dtype}')\n",
        "print(f'y shape={y.shape} dtype={y.dtype}')"
      ],
      "metadata": {
        "colab": {
          "base_uri": "https://localhost:8080/"
        },
        "id": "CGXRcsba0_lk",
        "outputId": "79297fb9-fa29-4e0d-a11b-7c90a2fa8426"
      },
      "execution_count": 27,
      "outputs": [
        {
          "output_type": "stream",
          "name": "stdout",
          "text": [
            "x shape=torch.Size([32, 1, 28, 28]) dtype=torch.float32\n",
            "y shape=torch.Size([32]) dtype=torch.int64\n"
          ]
        }
      ]
    },
    {
      "cell_type": "markdown",
      "source": [
        "#### Prueba"
      ],
      "metadata": {
        "id": "dv5t4mDf57_1"
      }
    },
    {
      "cell_type": "code",
      "source": [
        "# creamos un Dataset\n",
        "tst_ds = FashionMNIST(\n",
        "    # directorio de datos\n",
        "    root=DATA_DIR, \n",
        "    # subconjunto de entrenamiento\n",
        "    train=False,\n",
        "    # transformación\n",
        "    transform=trn_tsfm\n",
        ")\n",
        "\n",
        "# creamos un DataLoader\n",
        "tst_dl = DataLoader(\n",
        "    # subconjunto\n",
        "    tst_ds,\n",
        "    # tamaño del lote\n",
        "    batch_size=BATCH_SIZE,\n",
        "    # desordenar\n",
        "    shuffle=True\n",
        ")\n",
        "\n",
        "# desplegamos un lote de imágenes\n",
        "x, y = next(iter(tst_dl))\n",
        "print(f'x shape={x.shape} dtype={x.dtype}')\n",
        "print(f'y shape={y.shape} dtype={y.dtype}')\n"
      ],
      "metadata": {
        "colab": {
          "base_uri": "https://localhost:8080/"
        },
        "id": "aHAqFK4g3-LZ",
        "outputId": "e2e2a297-5548-4db8-d581-7adddffd59e0"
      },
      "execution_count": 28,
      "outputs": [
        {
          "output_type": "stream",
          "name": "stdout",
          "text": [
            "x shape=torch.Size([32, 1, 28, 28]) dtype=torch.float32\n",
            "y shape=torch.Size([32]) dtype=torch.int64\n"
          ]
        }
      ]
    },
    {
      "cell_type": "markdown",
      "source": [
        "### Explora con diferentes número de neuronas, capas, funciones de activación e hiperparámetros."
      ],
      "metadata": {
        "id": "8SkIhZkuAD-U"
      }
    },
    {
      "cell_type": "markdown",
      "source": [
        "Con una capa oculta de 128 neuronas, usando función de activación ReLU"
      ],
      "metadata": {
        "id": "_HhT9FElanKL"
      }
    },
    {
      "cell_type": "code",
      "source": [
        "# definición del modelo\n",
        "class FCN_1(nn.Module):\n",
        "\n",
        "    # definimos el constructor que recibe los parámetros que vamos a variar\n",
        "    def __init__(self):\n",
        "        # inicilización del objeto padre, obligatorio\n",
        "        super(FCN_1, self).__init__()\n",
        "\n",
        "        # tamaño de la entrada\n",
        "        self.I = 1 * 28 * 28\n",
        "        # tamaño de la salida \n",
        "        \n",
        "\n",
        "        FC1, FC2 = 128, 10\n",
        "\n",
        "      #definimos las capas\n",
        "        self.cls = nn.Sequential(\n",
        "            #primer fully conected toma n vectores de 1x28x28 y transformalos a n vectores de 128\n",
        "            nn.Linear(self.I, FC1),\n",
        "            #funcion de activacion relu\n",
        "            nn.ReLU(),\n",
        "            # segunda fully conected entrada de 128 y salida de 10 (clases)\n",
        "            nn.Linear(FC1, FC2)\n",
        "        )\n",
        "            \n",
        "    #inferencia\n",
        "    def forward(self, x):\n",
        "        # [1,28,28]  => (1*28*28)\n",
        "        x = x.view(-1, self.I)\n",
        "        #inferencia\n",
        "        x = self.cls(x)\n",
        "        return x    "
      ],
      "metadata": {
        "id": "olgijI6M6LyM"
      },
      "execution_count": 29,
      "outputs": []
    },
    {
      "cell_type": "code",
      "source": [
        "model_1 = FCN_1()\n",
        "print(model_1)"
      ],
      "metadata": {
        "colab": {
          "base_uri": "https://localhost:8080/"
        },
        "id": "mc9qS9GBChzB",
        "outputId": "92923f56-1c59-4121-b588-a7bc70426c12"
      },
      "execution_count": 30,
      "outputs": [
        {
          "output_type": "stream",
          "name": "stdout",
          "text": [
            "FCN_1(\n",
            "  (cls): Sequential(\n",
            "    (0): Linear(in_features=784, out_features=128, bias=True)\n",
            "    (1): ReLU()\n",
            "    (2): Linear(in_features=128, out_features=10, bias=True)\n",
            "  )\n",
            ")\n"
          ]
        }
      ]
    },
    {
      "cell_type": "code",
      "source": [
        "# inferencia con datos sinteticos\n",
        "x = torch.zeros(1, 1, 28, 28)\n",
        "y = model_1(x)\n",
        "print(y.shape)"
      ],
      "metadata": {
        "colab": {
          "base_uri": "https://localhost:8080/"
        },
        "id": "kXd4wA9MClOL",
        "outputId": "bf5076b4-fbb1-41a4-b5a2-de31d7b369c4"
      },
      "execution_count": 31,
      "outputs": [
        {
          "output_type": "stream",
          "name": "stdout",
          "text": [
            "torch.Size([1, 10])\n"
          ]
        }
      ]
    },
    {
      "cell_type": "markdown",
      "source": [
        "### Entrenamiento"
      ],
      "metadata": {
        "id": "MBtKQhIkbogY"
      }
    },
    {
      "cell_type": "code",
      "source": [
        "# Vamos a definir una función de entrenamiento que debe recibir los parámetros que vamos a variar\n",
        "\n",
        "def eval_epoch(dl, model, num_batches=None):\n",
        "\n",
        "    # evitamos que se registren las operaciones \n",
        "    # en la gráfica de cómputo\n",
        "    with torch.no_grad():\n",
        "\n",
        "        # historiales\n",
        "        losses, accs = [], []\n",
        "\n",
        "        for x, y_true in take(dl, num_batches):\n",
        "\n",
        "            # computamos los logits\n",
        "            y_lgts = model(x)\n",
        "\n",
        "            # computamos los puntajes\n",
        "            y_prob = F.softmax(y_lgts, 1)\n",
        "\n",
        "            # computamos la clases\n",
        "            y_pred = torch.argmax(y_prob, 1)\n",
        "\n",
        "            # computamos la pérdida\n",
        "            loss = F.cross_entropy(y_lgts, y_true)\n",
        "\n",
        "            # computamos la exactitud\n",
        "            acc = (y_true == y_pred).type(torch.float32).mean()\n",
        "\n",
        "            # guardamos históricos\n",
        "            losses.append(loss.item())\n",
        "            accs.append(acc.item())\n",
        "\n",
        "        # promediamos\n",
        "        loss = np.mean(losses) * 100\n",
        "        acc = np.mean(accs) * 100\n",
        "\n",
        "        return loss, acc\n",
        "\n",
        "def train(model, trn_dl, tst_dl, lr , epochs,\n",
        "          trn_batches=None, tst_batches=None):\n",
        "\n",
        "    # historiales\n",
        "    loss_hist, acc_hist = [], []\n",
        "    \n",
        "    # optimizador\n",
        "    opt = optim.SGD(model.parameters(), lr=lr)\n",
        "\n",
        "    # ciclo de entrenamiento\n",
        "    for epoch in trange(epochs):\n",
        "\n",
        "        # entrenamos la época\n",
        "        for x, y_true in trn_dl:\n",
        "\n",
        "          # computamos los logits\n",
        "          y_lgts = model(x)\n",
        "\n",
        "          # computamos la perdida\n",
        "\n",
        "          loss = F.cross_entropy(y_lgts, y_true)\n",
        "          # vaciamos los gradientes\n",
        "          opt.zero_grad()\n",
        "\n",
        "          # retropropagamos\n",
        "\n",
        "          loss.backward()\n",
        "\n",
        "          # actualizamos parámetros\n",
        "\n",
        "          opt.step()\n",
        "\n",
        "\n",
        "        # evaluamos la época en entrenamiento\n",
        "\n",
        "\n",
        "        trn_loss, trn_acc = eval_epoch(trn_dl, model, trn_batches)\n",
        "        # evaluamos la época en prueba\n",
        "        tst_loss, tst_acc = eval_epoch(tst_dl, model, tst_batches)\n",
        "\n",
        "        # guardamos historial\n",
        "        loss_hist.append([trn_loss, tst_loss])\n",
        "        acc_hist.append([trn_acc, tst_acc])\n",
        "\n",
        "        # imprimimos progreso\n",
        "        print(f'E{epoch:02} '\n",
        "              f'loss=[{trn_loss:6.2f},{tst_loss:6.2f}] '\n",
        "              f'acc=[{trn_acc:5.2f},{tst_acc:5.2f}]')\n",
        "\n",
        "    return loss_hist, acc_hist\n",
        "\n",
        "def plot_loss_acc(loss, acc, param):\n",
        "\n",
        "\n",
        "  fig,axes=plt.subplots(ncols=2, figsize = (18, 5))\n",
        "\n",
        "  trn_loss, tst_loss = zip(*loss)\n",
        "  sc1 = axes[0].plot(trn_loss, 'tab:orange', label='trn loss')\n",
        "  sc12 = axes[0].plot(tst_loss, 'tab:red', label='tst loss')\n",
        "\n",
        "\n",
        "\n",
        "  trn_acc, tst_acc = zip(*acc)\n",
        "  sc2 = axes[1].plot(trn_acc, 'tab:green', label='trn acc')\n",
        "  sc22 = axes[1].plot(tst_acc, 'tab:blue', label='tst acc')\n",
        "\n",
        "  axes[0].set(xlabel='época', ylabel=\"pérdida\")\n",
        "  axes[1].set(xlabel='época', ylabel= \"pérdida\")\n",
        "  axes[0].legend(loc=\"upper right\")\n",
        "  axes[1].legend(loc=\"upper right\")\n",
        "\n",
        "  axes[0].set_title('Entrenamiento:'+ param  , fontsize = 15)\n",
        "  axes[1].set_title('Validacion:'+ param,   fontsize = 15)\n",
        "\n",
        "\n",
        "  plt.show()\n",
        "\n",
        "  \n",
        "  \n"
      ],
      "metadata": {
        "id": "kbTXqHKubf5s"
      },
      "execution_count": 64,
      "outputs": []
    },
    {
      "cell_type": "code",
      "source": [
        "# Con tasa de aprendizaje de 0.005 y entrenando durante 40 epocas utilizando una función de activación ReLU\n",
        "model = FCN_1()\n",
        "loss, acc = train(model, trn_dl, tst_dl, 0.005, 40)"
      ],
      "metadata": {
        "colab": {
          "base_uri": "https://localhost:8080/",
          "height": 743,
          "referenced_widgets": [
            "e771659632734d7884c1cb637a5104e2",
            "1145d7a2d8584a2cab2be824045aafb5",
            "d9583674107348f3950c868633af7f9b",
            "da875d8f90454127b79c10b12ea8a7ab",
            "1a9824be583845d09747861ca3a0847c",
            "36c04dd08b1649c2be6dfc8a71d43e3a",
            "2b295867d63241bcbaddf70955da0b5d",
            "504878030edc4b3f9a90efdf7d36986d",
            "74a1a941c8a042c398bcb8565f10feac",
            "a3b5f5df60754646a57187a111ba1b2a",
            "13d133c0b5d14c8f910148f3ab56e4b5"
          ]
        },
        "id": "VkoE8Rgsf6cl",
        "outputId": "6d9e25df-6a1f-420d-b8cd-360e49ab226a"
      },
      "execution_count": 33,
      "outputs": [
        {
          "data": {
            "application/vnd.jupyter.widget-view+json": {
              "model_id": "e771659632734d7884c1cb637a5104e2",
              "version_major": 2,
              "version_minor": 0
            },
            "text/plain": [
              "  0%|          | 0/40 [00:00<?, ?it/s]"
            ]
          },
          "metadata": {},
          "output_type": "display_data"
        },
        {
          "output_type": "stream",
          "name": "stdout",
          "text": [
            "E00 loss=[ 51.56, 54.03] acc=[82.06,80.91]\n",
            "E01 loss=[ 45.09, 48.20] acc=[84.07,82.72]\n",
            "E02 loss=[ 42.09, 45.66] acc=[85.25,83.83]\n",
            "E03 loss=[ 40.13, 43.93] acc=[85.77,84.27]\n",
            "E04 loss=[ 38.43, 42.59] acc=[86.34,84.77]\n",
            "E05 loss=[ 37.52, 42.08] acc=[86.73,84.97]\n",
            "E06 loss=[ 36.13, 40.87] acc=[87.15,85.38]\n",
            "E07 loss=[ 35.22, 40.33] acc=[87.49,85.70]\n",
            "E08 loss=[ 34.26, 39.57] acc=[87.85,85.73]\n",
            "E09 loss=[ 33.25, 38.74] acc=[88.24,86.13]\n",
            "E10 loss=[ 33.00, 38.70] acc=[88.25,86.07]\n",
            "E11 loss=[ 32.34, 38.08] acc=[88.41,86.26]\n",
            "E12 loss=[ 31.35, 37.32] acc=[88.91,86.58]\n",
            "E13 loss=[ 30.73, 36.98] acc=[89.21,86.67]\n",
            "E14 loss=[ 30.41, 36.78] acc=[89.19,86.71]\n",
            "E15 loss=[ 30.00, 36.84] acc=[89.31,86.90]\n",
            "E16 loss=[ 29.78, 36.81] acc=[89.48,87.09]\n",
            "E17 loss=[ 29.26, 36.27] acc=[89.58,86.96]\n",
            "E18 loss=[ 28.97, 36.21] acc=[89.62,87.04]\n",
            "E19 loss=[ 28.06, 35.54] acc=[90.10,87.16]\n",
            "E20 loss=[ 27.75, 35.22] acc=[90.12,87.30]\n",
            "E21 loss=[ 27.43, 35.43] acc=[90.26,87.42]\n",
            "E22 loss=[ 26.82, 34.64] acc=[90.59,87.44]\n",
            "E23 loss=[ 26.31, 34.37] acc=[90.76,87.50]\n",
            "E24 loss=[ 26.44, 34.63] acc=[90.54,87.29]\n",
            "E25 loss=[ 25.79, 34.44] acc=[90.87,87.67]\n",
            "E26 loss=[ 25.33, 34.23] acc=[91.08,87.64]\n",
            "E27 loss=[ 25.46, 34.39] acc=[90.94,87.60]\n",
            "E28 loss=[ 24.88, 33.89] acc=[91.20,88.03]\n",
            "E29 loss=[ 24.53, 33.88] acc=[91.26,87.58]\n",
            "E30 loss=[ 24.80, 34.58] acc=[91.17,87.49]\n",
            "E31 loss=[ 23.85, 33.63] acc=[91.58,87.78]\n",
            "E32 loss=[ 24.01, 34.07] acc=[91.46,87.75]\n",
            "E33 loss=[ 23.43, 33.56] acc=[91.80,88.06]\n",
            "E34 loss=[ 23.31, 33.70] acc=[91.81,87.72]\n",
            "E35 loss=[ 23.23, 34.00] acc=[91.88,87.65]\n",
            "E36 loss=[ 22.32, 33.16] acc=[92.26,88.08]\n",
            "E37 loss=[ 22.70, 33.70] acc=[92.08,87.93]\n",
            "E38 loss=[ 22.49, 33.63] acc=[92.06,87.97]\n",
            "E39 loss=[ 22.29, 33.83] acc=[92.10,87.96]\n"
          ]
        }
      ]
    },
    {
      "cell_type": "code",
      "source": [
        "param = \"lr = 0.005, epochs = 40, AF = ReLu\"\n",
        "plot_loss_acc(loss, acc,  param)"
      ],
      "metadata": {
        "colab": {
          "base_uri": "https://localhost:8080/",
          "height": 352
        },
        "id": "qQB06BiIvIae",
        "outputId": "3696d022-a779-41af-e418-324a0d870d89"
      },
      "execution_count": 65,
      "outputs": [
        {
          "output_type": "display_data",
          "data": {
            "text/plain": [
              "<Figure size 1296x360 with 2 Axes>"
            ],
            "image/png": "[encoded data removed]"
          },
          "metadata": {
            "needs_background": "light"
          }
        }
      ]
    },
    {
      "cell_type": "code",
      "source": [
        "# Evaluación final\n",
        "\n",
        "# evaluamos en entrenamiento\n",
        "trn_loss, trn_acc = eval_epoch(trn_dl, model)\n",
        "# evaluamos en prueba\n",
        "tst_loss, tst_acc = eval_epoch(tst_dl, model)\n",
        "print(f'loss=[{trn_loss:6.2f},{tst_loss:6.2f}] '\n",
        "      f'acc=[{trn_acc:5.2f},{tst_acc:5.2f}]')"
      ],
      "metadata": {
        "colab": {
          "base_uri": "https://localhost:8080/"
        },
        "id": "bc8GqiyD3-p2",
        "outputId": "a49a0240-0cc1-4ded-c4d0-747e395db65b"
      },
      "execution_count": 67,
      "outputs": [
        {
          "output_type": "stream",
          "name": "stdout",
          "text": [
            "loss=[ 22.29, 33.89] acc=[92.10,87.94]\n"
          ]
        }
      ]
    },
    {
      "cell_type": "markdown",
      "source": [
        "Exploremos que es lo que ocurre cuando usamos una función de activación sigmoide"
      ],
      "metadata": {
        "id": "7vIHYdH9zAOY"
      }
    },
    {
      "cell_type": "code",
      "source": [
        "# definición del modelo\n",
        "class FCN_12(nn.Module):\n",
        "\n",
        "    # definimos el constructor que recibe los parámetros que vamos a variar\n",
        "    def __init__(self):\n",
        "        # inicilización del objeto padre, obligatorio\n",
        "        super(FCN_12, self).__init__()\n",
        "\n",
        "        # tamaño de la entrada\n",
        "        self.I = 1 * 28 * 28\n",
        "        # tamaño de la salida \n",
        "        \n",
        "\n",
        "        FC1, FC2 = 128, 10\n",
        "\n",
        "      #definimos las capas\n",
        "        self.cls = nn.Sequential(\n",
        "            #primer fully conected toma n vectores de 1x28x28 y transformalos a n vectores de 128\n",
        "            nn.Linear(self.I, FC1),\n",
        "            #funcion de activacion relu\n",
        "            nn.Sigmoid(),\n",
        "            # segunda fully conected entrada de 128 y salida de 10 (clases)\n",
        "            nn.Linear(FC1, FC2)\n",
        "        )\n",
        "            \n",
        "    #inferencia\n",
        "    def forward(self, x):\n",
        "        # [1,28,28]  => (1*28*28)\n",
        "        x = x.view(-1, self.I)\n",
        "        #inferencia\n",
        "        x = self.cls(x)\n",
        "        return x    "
      ],
      "metadata": {
        "id": "XEqJ50lFzNpy"
      },
      "execution_count": 62,
      "outputs": []
    },
    {
      "cell_type": "code",
      "source": [
        "# Con tasa de aprendizaje de 0.005 y entrenando durante 40 epocas usando una función de activación sigmoide\n",
        "model12 = FCN_12()\n",
        "loss12, acc12 = train(model12, trn_dl, tst_dl, 0.005, 40)"
      ],
      "metadata": {
        "colab": {
          "base_uri": "https://localhost:8080/",
          "height": 743,
          "referenced_widgets": [
            "711a5890a04141ff85773a59dc85e7ac",
            "2ff0925d92ce4bd2bbdbdf53a963a552",
            "21df7c680ccc46c8a87a922b9566693c",
            "8e55edd4dc714cb6bb9c52b33cff6613",
            "43d645d620c643c78bc589ebc8411cc0",
            "b542f2fc47f045f0b67b34da1f0f017f",
            "f009eca28c1d4e8b8b8d44d3054e64fc",
            "a9befcc0afa64487b8a2df7e8cbfcbb3",
            "14202a2e7f98411e82f30accab733791",
            "f3c088bf96de407bbf7033a112ebc441",
            "072c1313424341a5b6fbdcc8f2cb3f35"
          ]
        },
        "id": "Z65Yo1ifzaD4",
        "outputId": "73f2ba25-438d-482a-cfa9-4df766504628"
      },
      "execution_count": 63,
      "outputs": [
        {
          "output_type": "display_data",
          "data": {
            "text/plain": [
              "  0%|          | 0/40 [00:00<?, ?it/s]"
            ],
            "application/vnd.jupyter.widget-view+json": {
              "version_major": 2,
              "version_minor": 0,
              "model_id": "711a5890a04141ff85773a59dc85e7ac"
            }
          },
          "metadata": {}
        },
        {
          "output_type": "stream",
          "name": "stdout",
          "text": [
            "E00 loss=[ 89.79, 90.71] acc=[73.55,72.78]\n",
            "E01 loss=[ 69.31, 70.78] acc=[76.44,75.72]\n",
            "E02 loss=[ 61.24, 63.02] acc=[78.78,77.76]\n",
            "E03 loss=[ 56.43, 58.45] acc=[80.42,79.28]\n",
            "E04 loss=[ 53.22, 55.46] acc=[81.50,80.28]\n",
            "E05 loss=[ 50.85, 53.38] acc=[82.22,80.87]\n",
            "E06 loss=[ 49.12, 51.78] acc=[82.78,81.30]\n",
            "E07 loss=[ 47.66, 50.40] acc=[83.31,81.78]\n",
            "E08 loss=[ 46.40, 49.36] acc=[83.74,82.30]\n",
            "E09 loss=[ 45.48, 48.56] acc=[83.98,82.45]\n",
            "E10 loss=[ 44.53, 47.69] acc=[84.34,82.83]\n",
            "E11 loss=[ 43.77, 47.05] acc=[84.62,83.05]\n",
            "E12 loss=[ 43.15, 46.56] acc=[84.87,83.27]\n",
            "E13 loss=[ 42.40, 45.83] acc=[85.11,83.44]\n",
            "E14 loss=[ 41.85, 45.33] acc=[85.20,83.66]\n",
            "E15 loss=[ 41.31, 44.85] acc=[85.36,83.82]\n",
            "E16 loss=[ 40.96, 44.70] acc=[85.54,83.88]\n",
            "E17 loss=[ 40.40, 44.13] acc=[85.73,84.07]\n",
            "E18 loss=[ 39.93, 43.68] acc=[85.92,84.29]\n",
            "E19 loss=[ 39.66, 43.49] acc=[85.97,84.30]\n",
            "E20 loss=[ 39.28, 43.21] acc=[86.09,84.56]\n",
            "E21 loss=[ 38.89, 42.85] acc=[86.34,84.51]\n",
            "E22 loss=[ 38.50, 42.49] acc=[86.42,84.63]\n",
            "E23 loss=[ 38.28, 42.31] acc=[86.52,84.76]\n",
            "E24 loss=[ 37.94, 42.08] acc=[86.59,84.96]\n",
            "E25 loss=[ 37.65, 41.82] acc=[86.70,85.02]\n",
            "E26 loss=[ 37.35, 41.56] acc=[86.79,85.12]\n",
            "E27 loss=[ 37.10, 41.34] acc=[86.88,85.15]\n",
            "E28 loss=[ 36.86, 41.18] acc=[86.95,85.18]\n",
            "E29 loss=[ 36.54, 40.88] acc=[87.16,85.23]\n",
            "E30 loss=[ 36.39, 40.73] acc=[87.17,85.45]\n",
            "E31 loss=[ 36.09, 40.52] acc=[87.33,85.46]\n",
            "E32 loss=[ 35.91, 40.41] acc=[87.26,85.43]\n",
            "E33 loss=[ 35.71, 40.29] acc=[87.38,85.52]\n",
            "E34 loss=[ 35.46, 40.05] acc=[87.54,85.70]\n",
            "E35 loss=[ 35.22, 39.89] acc=[87.61,85.83]\n",
            "E36 loss=[ 35.06, 39.78] acc=[87.69,85.95]\n",
            "E37 loss=[ 34.84, 39.54] acc=[87.73,85.89]\n",
            "E38 loss=[ 34.79, 39.67] acc=[87.70,85.68]\n",
            "E39 loss=[ 34.50, 39.35] acc=[87.85,85.88]\n"
          ]
        }
      ]
    },
    {
      "cell_type": "code",
      "source": [
        "print(model12)"
      ],
      "metadata": {
        "colab": {
          "base_uri": "https://localhost:8080/"
        },
        "id": "hcK_9d-sB_-z",
        "outputId": "9dfb45da-11ef-47ef-8476-61d0eace2db6"
      },
      "execution_count": 79,
      "outputs": [
        {
          "output_type": "stream",
          "name": "stdout",
          "text": [
            "FCN_12(\n",
            "  (cls): Sequential(\n",
            "    (0): Linear(in_features=784, out_features=128, bias=True)\n",
            "    (1): Sigmoid()\n",
            "    (2): Linear(in_features=128, out_features=10, bias=True)\n",
            "  )\n",
            ")\n"
          ]
        }
      ]
    },
    {
      "cell_type": "code",
      "source": [
        "param12 = \"lr = 0.005, epochs = 40, AF = Sigmoide\"\n",
        "plot_loss_acc(loss12, acc12,  param12)"
      ],
      "metadata": {
        "colab": {
          "base_uri": "https://localhost:8080/",
          "height": 352
        },
        "id": "LUkROJAt3BhR",
        "outputId": "8175bcfa-6bb5-4306-90c4-da99b6c2ec72"
      },
      "execution_count": 69,
      "outputs": [
        {
          "output_type": "display_data",
          "data": {
            "text/plain": [
              "<Figure size 1296x360 with 2 Axes>"
            ],
            "image/png": "[encoded data removed]"
          },
          "metadata": {
            "needs_background": "light"
          }
        }
      ]
    },
    {
      "cell_type": "code",
      "source": [
        "# Evaluación final\n",
        "\n",
        "# evaluamos en entrenamiento\n",
        "trn_loss12, trn_acc12 = eval_epoch(trn_dl, model12)\n",
        "# evaluamos en prueba\n",
        "tst_loss12, tst_acc12 = eval_epoch(tst_dl, model12)\n",
        "print(f'loss=[{trn_loss12:6.2f},{tst_loss12:6.2f}] '\n",
        "      f'acc=[{trn_acc12:5.2f},{tst_acc12:5.2f}]')"
      ],
      "metadata": {
        "colab": {
          "base_uri": "https://localhost:8080/"
        },
        "id": "3fhhLdJ136Y2",
        "outputId": "d970933f-808c-4f7f-8740-b22eb442e055"
      },
      "execution_count": 68,
      "outputs": [
        {
          "output_type": "stream",
          "name": "stdout",
          "text": [
            "loss=[ 34.50, 39.38] acc=[87.85,85.87]\n"
          ]
        }
      ]
    },
    {
      "cell_type": "markdown",
      "source": [
        "Para esta arquitectura vamos a modificar el número de capas y el número de neuronas"
      ],
      "metadata": {
        "id": "RIjReRwtZf2A"
      }
    },
    {
      "cell_type": "code",
      "source": [
        "# Modificamos el modelo con más capas ocultas\n",
        "\n",
        "# definición del modelo\n",
        "class FCN_2(nn.Module):\n",
        "\n",
        "    # definimos el constructor que recibe los parámetros que vamos a variar\n",
        "    def __init__(self):\n",
        "        # inicilización del objeto padre, obligatorio\n",
        "        super(FCN_2, self).__init__()\n",
        "\n",
        "        # tamaño de la entrada\n",
        "        self.I = 1 * 28 * 28\n",
        "        # tamaño de la salida \n",
        "        \n",
        "\n",
        "        FC1, FC2, FC3 = 128, 256, 10\n",
        "\n",
        "      #definimos las capas\n",
        "        self.cls = nn.Sequential(\n",
        "            # primera capa completamente conectada toma n vectores de 1x28x28 y transformalos a n vectores de 128\n",
        "            nn.Linear(self.I, FC1),\n",
        "            #funcion de activacion relu\n",
        "            nn.ReLU(),\n",
        "            # segunda capa completamente conectada entrada de 128 y salida de 256\n",
        "            nn.Linear(FC1, FC2),\n",
        "\n",
        "            nn.ReLU(),\n",
        "\n",
        "            # tercera y ultima capa completamente conectada, entrada de 256 y salida de 10\n",
        "\n",
        "            nn.Linear(FC2, FC3)\n",
        "        )\n",
        "            \n",
        "    #inferencia\n",
        "    def forward(self, x):\n",
        "        # [1,28,28]  => (1*28*28)\n",
        "        x = x.view(-1, self.I)\n",
        "        #inferencia\n",
        "        x = self.cls(x)\n",
        "        return x    "
      ],
      "metadata": {
        "id": "Lf4hqKkVZgUb"
      },
      "execution_count": 70,
      "outputs": []
    },
    {
      "cell_type": "code",
      "source": [
        "# Veamos si aumentando las capas ocultas y las neuronas nos da un mejor rendimiento la red, vamos a entrenar menos epocas con la misma tasa de aprendizaje\n",
        "\n",
        "model2 = FCN_2()\n",
        "loss2, acc2 = train(model2, trn_dl, tst_dl, 0.005, 20)"
      ],
      "metadata": {
        "colab": {
          "base_uri": "https://localhost:8080/",
          "height": 396,
          "referenced_widgets": [
            "437181db07764412bbf3b67553eb0769",
            "1bd65ae68faa4e80910507bfcf2db15e",
            "cc1c35f2c95b43318dc37f6874467080",
            "15639842b8e848b8b4fb9146bae3ae74",
            "7411f30541544c7e99ff550b42e8664f",
            "61bc8816859c45f49cf5a9f803861628",
            "ffd1c6fa95674eb3bd8f03774172a2c4",
            "31854eeb960d46feaa46006fba8ee8d7",
            "efdd0fddf0e2479d89f2ac2d87987d25",
            "c60f53fc766748c282235b6d101a632e",
            "4ca07f3e526b40c09d457e65bc78d0b7"
          ]
        },
        "id": "RX5fN_acduQt",
        "outputId": "2eaab33b-79e0-463e-9958-95fd7783137d"
      },
      "execution_count": 72,
      "outputs": [
        {
          "output_type": "display_data",
          "data": {
            "text/plain": [
              "  0%|          | 0/20 [00:00<?, ?it/s]"
            ],
            "application/vnd.jupyter.widget-view+json": {
              "version_major": 2,
              "version_minor": 0,
              "model_id": "437181db07764412bbf3b67553eb0769"
            }
          },
          "metadata": {}
        },
        {
          "output_type": "stream",
          "name": "stdout",
          "text": [
            "E00 loss=[ 54.27, 56.72] acc=[80.59,79.32]\n",
            "E01 loss=[ 46.59, 49.73] acc=[83.49,82.17]\n",
            "E02 loss=[ 41.90, 45.63] acc=[84.96,83.39]\n",
            "E03 loss=[ 39.75, 43.63] acc=[85.92,84.36]\n",
            "E04 loss=[ 38.46, 42.76] acc=[86.10,84.40]\n",
            "E05 loss=[ 36.56, 41.28] acc=[86.84,85.14]\n",
            "E06 loss=[ 34.94, 39.87] acc=[87.45,85.91]\n",
            "E07 loss=[ 34.31, 39.57] acc=[87.64,85.91]\n",
            "E08 loss=[ 34.36, 39.82] acc=[87.60,85.77]\n",
            "E09 loss=[ 32.07, 37.77] acc=[88.41,86.31]\n",
            "E10 loss=[ 31.65, 37.37] acc=[88.78,86.65]\n",
            "E11 loss=[ 30.37, 36.51] acc=[89.24,86.87]\n",
            "E12 loss=[ 30.16, 36.33] acc=[89.20,87.02]\n",
            "E13 loss=[ 29.26, 35.83] acc=[89.50,87.35]\n",
            "E14 loss=[ 29.12, 35.84] acc=[89.52,87.25]\n",
            "E15 loss=[ 28.34, 35.52] acc=[89.86,87.15]\n",
            "E16 loss=[ 27.63, 35.01] acc=[89.94,87.23]\n",
            "E17 loss=[ 28.32, 35.92] acc=[89.72,87.19]\n",
            "E18 loss=[ 27.16, 35.12] acc=[90.14,87.31]\n",
            "E19 loss=[ 26.55, 34.80] acc=[90.56,87.66]\n"
          ]
        }
      ]
    },
    {
      "cell_type": "code",
      "source": [
        "print(model2)"
      ],
      "metadata": {
        "colab": {
          "base_uri": "https://localhost:8080/"
        },
        "id": "frKxjK5uCjCt",
        "outputId": "04e62548-2dae-414c-8a08-4cd6e8917b3f"
      },
      "execution_count": 80,
      "outputs": [
        {
          "output_type": "stream",
          "name": "stdout",
          "text": [
            "FCN_2(\n",
            "  (cls): Sequential(\n",
            "    (0): Linear(in_features=784, out_features=128, bias=True)\n",
            "    (1): ReLU()\n",
            "    (2): Linear(in_features=128, out_features=256, bias=True)\n",
            "    (3): ReLU()\n",
            "    (4): Linear(in_features=256, out_features=10, bias=True)\n",
            "  )\n",
            ")\n"
          ]
        }
      ]
    },
    {
      "cell_type": "code",
      "source": [
        "param2 = \"lr = 0.005, epochs = 20, AF = ReLu\"\n",
        "plot_loss_acc(loss2, acc2,  param2)"
      ],
      "metadata": {
        "colab": {
          "base_uri": "https://localhost:8080/",
          "height": 352
        },
        "id": "SiFwE2un7Gi5",
        "outputId": "a6db94a6-d283-4827-de02-e37f45f501f1"
      },
      "execution_count": 73,
      "outputs": [
        {
          "output_type": "display_data",
          "data": {
            "text/plain": [
              "<Figure size 1296x360 with 2 Axes>"
            ],
            "image/png": "[encoded data removed]"
          },
          "metadata": {
            "needs_background": "light"
          }
        }
      ]
    },
    {
      "cell_type": "code",
      "source": [
        "# Evaluación final\n",
        "\n",
        "# evaluamos en entrenamiento\n",
        "trn_loss2, trn_acc2 = eval_epoch(trn_dl, model2)\n",
        "# evaluamos en prueba\n",
        "tst_loss2, tst_acc2 = eval_epoch(tst_dl, model2)\n",
        "print(f'loss=[{trn_loss2:6.2f},{tst_loss2:6.2f}] '\n",
        "      f'acc=[{trn_acc2:5.2f},{tst_acc2:5.2f}]')"
      ],
      "metadata": {
        "colab": {
          "base_uri": "https://localhost:8080/"
        },
        "id": "N0r6JTgM-WO-",
        "outputId": "45fa2c34-75c9-40b4-9214-77c6bba58f20"
      },
      "execution_count": 77,
      "outputs": [
        {
          "output_type": "stream",
          "name": "stdout",
          "text": [
            "loss=[ 26.55, 34.87] acc=[90.56,87.65]\n"
          ]
        }
      ]
    },
    {
      "cell_type": "code",
      "source": [
        "# Modificamos el modelo con más capas ocultas\n",
        "\n",
        "# definición del modelo\n",
        "class FCN_3(nn.Module):\n",
        "\n",
        "    # definimos el constructor que recibe los parámetros que vamos a variar\n",
        "    def __init__(self):\n",
        "        # inicilización del objeto padre, obligatorio\n",
        "        super(FCN_3, self).__init__()\n",
        "\n",
        "        # tamaño de la entrada\n",
        "        self.I = 1 * 28 * 28\n",
        "        # tamaño de la salida \n",
        "        \n",
        "\n",
        "        FC1, FC2, FC3, FC4 = 128, 256, 512, 10\n",
        "\n",
        "      #definimos las capas\n",
        "        self.cls = nn.Sequential(\n",
        "            # primera capa completamente conectada toma n vectores de 1x28x28 y transformalos a n vectores de 128\n",
        "            nn.Linear(self.I, FC1),\n",
        "            #funcion de activacion relu\n",
        "            nn.ReLU(),\n",
        "            # segunda capa completamente conectada entrada de 128 y salida de 256\n",
        "            nn.Linear(FC1, FC2),\n",
        "            nn.ReLU(),\n",
        "            # tercera capa completamente conectada, entrada de 256 y salida de 512\n",
        "            nn.Linear(FC2, FC3),\n",
        "\n",
        "            nn.ReLU(),\n",
        "            # Ultima capa completamente conectada, entrada de 512 y salida de 10 clases \n",
        "            nn.Linear(FC3, FC4)\n",
        "        )\n",
        "            \n",
        "    #inferencia\n",
        "    def forward(self, x):\n",
        "        # [1,28,28]  => (1*28*28)\n",
        "        x = x.view(-1, self.I)\n",
        "        #inferencia\n",
        "        x = self.cls(x)\n",
        "        return x    "
      ],
      "metadata": {
        "id": "uQzWfe6ve_R-"
      },
      "execution_count": 74,
      "outputs": []
    },
    {
      "cell_type": "code",
      "source": [
        "# Veamos si aumentando las capas ocultas y las neuronas nos da un mejor rendimiento la red, vamos a entrenar menos epocas con la misma tasa de aprendizaje\n",
        "\n",
        "model3 = FCN_3()\n",
        "loss3, acc3 = train(model3, trn_dl, tst_dl, 0.01, 20)"
      ],
      "metadata": {
        "colab": {
          "base_uri": "https://localhost:8080/",
          "height": 396,
          "referenced_widgets": [
            "f5cad38ee29142049b552f1e3edf7339",
            "40bd623d051849d29c655477ef536329",
            "2ceac93560744113ad34a5460828b5fd",
            "ba12b16527b046d684d8c099b6fe106d",
            "a5b024dbdf2046f0b27c9002e8d33bd8",
            "663e8c512bab439288b6b9b34aa97fe4",
            "cad523effe234305960cc7e716803151",
            "e1e050108c784645b61ace31d2f7e0a0",
            "a641b2c299d347d5bee44388387856be",
            "6f154435b39b45faad2a5af5bc13123c",
            "1aacea234e6847ccb239f246966584b0"
          ]
        },
        "id": "Og623wzNgCFh",
        "outputId": "a5bdd7f4-d6c7-45ec-e0e8-20bbf93dd2b3"
      },
      "execution_count": 75,
      "outputs": [
        {
          "output_type": "display_data",
          "data": {
            "text/plain": [
              "  0%|          | 0/20 [00:00<?, ?it/s]"
            ],
            "application/vnd.jupyter.widget-view+json": {
              "version_major": 2,
              "version_minor": 0,
              "model_id": "f5cad38ee29142049b552f1e3edf7339"
            }
          },
          "metadata": {}
        },
        {
          "output_type": "stream",
          "name": "stdout",
          "text": [
            "E00 loss=[ 48.80, 52.09] acc=[82.47,81.25]\n",
            "E01 loss=[ 41.26, 45.40] acc=[85.02,83.51]\n",
            "E02 loss=[ 38.16, 42.45] acc=[85.99,84.58]\n",
            "E03 loss=[ 33.78, 38.88] acc=[87.90,86.18]\n",
            "E04 loss=[ 31.92, 37.55] acc=[88.51,86.61]\n",
            "E05 loss=[ 31.12, 37.36] acc=[88.65,86.64]\n",
            "E06 loss=[ 29.32, 36.11] acc=[89.27,86.83]\n",
            "E07 loss=[ 28.65, 35.82] acc=[89.59,86.80]\n",
            "E08 loss=[ 27.69, 35.42] acc=[89.92,87.09]\n",
            "E09 loss=[ 26.02, 34.23] acc=[90.52,87.60]\n",
            "E10 loss=[ 25.54, 34.16] acc=[90.67,87.66]\n",
            "E11 loss=[ 24.55, 33.74] acc=[91.03,87.84]\n",
            "E12 loss=[ 24.51, 34.33] acc=[91.05,87.63]\n",
            "E13 loss=[ 23.71, 34.43] acc=[91.44,87.80]\n",
            "E14 loss=[ 22.17, 32.82] acc=[91.98,88.23]\n",
            "E15 loss=[ 21.55, 33.34] acc=[92.10,88.16]\n",
            "E16 loss=[ 21.10, 33.30] acc=[92.33,88.21]\n",
            "E17 loss=[ 20.44, 33.32] acc=[92.52,88.47]\n",
            "E18 loss=[ 19.52, 33.21] acc=[92.89,88.42]\n",
            "E19 loss=[ 19.42, 33.53] acc=[92.92,88.52]\n"
          ]
        }
      ]
    },
    {
      "cell_type": "code",
      "source": [
        "print(model3)"
      ],
      "metadata": {
        "colab": {
          "base_uri": "https://localhost:8080/"
        },
        "id": "Ca1WAXtTDwQ0",
        "outputId": "6d72173d-6446-4e66-e25f-103cd16a287a"
      },
      "execution_count": 82,
      "outputs": [
        {
          "output_type": "stream",
          "name": "stdout",
          "text": [
            "FCN_3(\n",
            "  (cls): Sequential(\n",
            "    (0): Linear(in_features=784, out_features=128, bias=True)\n",
            "    (1): ReLU()\n",
            "    (2): Linear(in_features=128, out_features=256, bias=True)\n",
            "    (3): ReLU()\n",
            "    (4): Linear(in_features=256, out_features=512, bias=True)\n",
            "    (5): ReLU()\n",
            "    (6): Linear(in_features=512, out_features=10, bias=True)\n",
            "  )\n",
            ")\n"
          ]
        }
      ]
    },
    {
      "cell_type": "code",
      "source": [
        "param3 = \"lr = 0.01, epochs = 20, AF = ReLu\"\n",
        "plot_loss_acc(loss3, acc3,  param3)"
      ],
      "metadata": {
        "colab": {
          "base_uri": "https://localhost:8080/",
          "height": 352
        },
        "id": "loUSwpDC_klz",
        "outputId": "d92b4eaf-2d9a-4405-e478-e4879f0c1638"
      },
      "execution_count": 76,
      "outputs": [
        {
          "output_type": "display_data",
          "data": {
            "text/plain": [
              "<Figure size 1296x360 with 2 Axes>"
            ],
            "image/png": "[encoded data removed]"
          },
          "metadata": {
            "needs_background": "light"
          }
        }
      ]
    },
    {
      "cell_type": "code",
      "source": [
        "# Evaluación final\n",
        "\n",
        "# evaluamos en entrenamiento\n",
        "trn_loss3, trn_acc3 = eval_epoch(trn_dl, model3)\n",
        "# evaluamos en prueba\n",
        "tst_loss3, tst_acc3 = eval_epoch(tst_dl, model3)\n",
        "print(f'loss=[{trn_loss3:6.2f},{tst_loss3:6.2f}] '\n",
        "      f'acc=[{trn_acc3:5.2f},{tst_acc3:5.2f}]')"
      ],
      "metadata": {
        "colab": {
          "base_uri": "https://localhost:8080/"
        },
        "id": "ChJj4AkeDCBV",
        "outputId": "461e7b43-1e7b-4608-e16b-919d79504d07"
      },
      "execution_count": 81,
      "outputs": [
        {
          "output_type": "stream",
          "name": "stdout",
          "text": [
            "loss=[ 19.42, 33.39] acc=[92.92,88.54]\n"
          ]
        }
      ]
    },
    {
      "cell_type": "code",
      "source": [
        "# Evaluación final\n",
        "\n",
        "# evaluamos en entrenamiento\n",
        "trn_loss3, trn_acc3 = eval_epoch(trn_dl, model3)\n",
        "# evaluamos en prueba\n",
        "tst_loss3, tst_acc3 = eval_epoch(tst_dl, model3)\n",
        "print(f'loss=[{trn_loss3:6.2f},{tst_loss3:6.2f}] '\n",
        "      f'acc=[{trn_acc3:5.2f},{tst_acc3:5.2f}]')"
      ],
      "metadata": {
        "id": "MfA6otlDzUBA",
        "colab": {
          "base_uri": "https://localhost:8080/"
        },
        "outputId": "37ad0f64-bccb-435b-a483-9f59da30160e"
      },
      "execution_count": 78,
      "outputs": [
        {
          "output_type": "stream",
          "name": "stdout",
          "text": [
            "loss=[ 19.42, 33.35] acc=[92.92,88.56]\n"
          ]
        }
      ]
    },
    {
      "cell_type": "markdown",
      "source": [
        "##  Discusión, resultados y conclusiones\n",
        "* $\\textbf{Primer modelo}$:\n",
        "\n",
        "(0): Linear(in_features=784, out_features=128, bias=True)\n",
        "\n",
        "(1): ReLU()\n",
        "\n",
        "(2): Linear(in_features=128, out_features=10, bias=True)\n",
        "   \n",
        " - Epocas: 40\n",
        " - Learning rate: 0.001\n",
        " - Función de activación: ReLU\n",
        "\n",
        " $\\textbf{Accuracy test: 87.94 }$\n",
        "\n",
        "\n",
        " * $\\textbf{Segundo modelo}$:\n",
        "\n",
        "(0): Linear(in_features=784, out_features=128, bias=True)\n",
        "\n",
        "(1): Sigmoid()\n",
        "\n",
        "(2): Linear(in_features=128, out_features=10, bias=True)\n",
        "   \n",
        " - Epocas: 40\n",
        " - Learning rate: 0.001\n",
        " - Función de activación: Sigmoide\n",
        "\n",
        " $\\textbf{Accuracy test: 85.87 }$\n",
        "\n",
        "\n",
        "  * $\\textbf{Tercer modelo}$:\n",
        "\n",
        "(0): Linear(in_features=784, out_features=128, bias=True)\n",
        "\n",
        "(1): ReLU()\n",
        "\n",
        "(2): Linear(in_features=128, out_features=256, bias=True)\n",
        "\n",
        "(3): ReLU()\n",
        "\n",
        "(4): Linear(in_features=256, out_features=10, bias=True)\n",
        "   \n",
        " - Epocas: 20\n",
        " - Learning rate: 0.001\n",
        " - Función de activación: ReLu\n",
        "\n",
        " $\\textbf{Accuracy test: 87.65 }$\n",
        "\n",
        "  * $\\textbf{Cuarto modelo}$:\n",
        "\n",
        "(0): Linear(in_features=784, out_features=128, bias=True)\n",
        "\n",
        "(1): ReLU()\n",
        "\n",
        "(2): Linear(in_features=128, out_features=256, bias=True)\n",
        "\n",
        "(3): ReLU()\n",
        "\n",
        "(4): Linear(in_features=256, out_features=512, bias=True)\n",
        "\n",
        "(5): ReLU()\n",
        "\n",
        "(6): Linear(in_features=512, out_features=10, bias=True)\n",
        "\n",
        "\n",
        "   \n",
        " - Epocas: 20\n",
        " - Learning rate: 0.01\n",
        " - Función de activación: ReLu\n",
        "\n",
        " $\\textbf{Accuracy test: 88.56}$\n",
        "\n",
        "\n",
        "\n",
        " \n",
        "\n",
        "\n",
        "\n",
        " \n",
        "  \n"
      ],
      "metadata": {
        "id": "GlhD4Eyo6cTI"
      }
    },
    {
      "cell_type": "markdown",
      "source": [
        "* Se puede observar que uno de los factores que beneficia el desempeño de la red es la tasa de aprendizaje. La arquitectura que ocupo una tasa de aprendizaje de 0.01 tiene un desempeño destacable de 88.56 en validación comparándola con las arquitecturas donde se utilizo 0.001, sin embargo, en la graficas de aprendizaje podemos observar que esta convergiendo a un valor, como si no fuera a aumentar, esto puede ser que debido a una tasa de aprendizaje más alta el algoritmo del descenso del gradiente puede saltarse el punto mínimo.\n",
        "\n",
        "* Otro de los parámetros que me pareció muy importante, el cual ya se ha discutido en la clase es el número de épocas con las que se entrena el modelo. Podemos observar que en el primer modelo donde unicamente se ocupo una capa oculta pero se entreno durante 40 épocas tuvo un accuracy de 87.94 siendo el segundo mejor de los que se entrenaron.\n",
        "\n",
        "* La variación del número de capas ocultas en la red y el numero de neuronas en cada una de ellas parece mejorar el modelo, requiriendo un mejor número de épocas para poder obtener un buen desempeño. \n",
        "\n",
        "* Por ultimo, se realizo una comparación entre el uso de la función de activación ReLu y sigmoide, cuando se utiliza la función ReLu el modelo aprende de forma más rápida, en cuanto a la función sigmoide podemos observar en el historial de aprendizaje que aprende de forma más lenta y se va estancando en ciertos valores, esto se puede deber a lo discutido en clase sobre que la derivada de la función sigmoide es saturada y favorece el desvanecimiento del gradiente.\n",
        "\n",
        "\n"
      ],
      "metadata": {
        "id": "nKzDs7r_ENdY"
      }
    },
    {
      "cell_type": "code",
      "source": [],
      "metadata": {
        "id": "_ysWh_QT6kv-"
      },
      "execution_count": null,
      "outputs": []
    }
  ]
}